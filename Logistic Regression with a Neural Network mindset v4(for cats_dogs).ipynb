{
 "cells": [
  {
   "cell_type": "markdown",
   "metadata": {},
   "source": [
    "# Logistic Regression with a Neural Network mindset"
   ]
  },
  {
   "cell_type": "markdown",
   "metadata": {},
   "source": [
    "## 1 - Packages ##\n"
   ]
  },
  {
   "cell_type": "code",
   "execution_count": 1,
   "metadata": {},
   "outputs": [
    {
     "name": "stderr",
     "output_type": "stream",
     "text": [
      "/anaconda3/lib/python3.6/site-packages/h5py/__init__.py:34: FutureWarning: Conversion of the second argument of issubdtype from `float` to `np.floating` is deprecated. In future, it will be treated as `np.float64 == np.dtype(float).type`.\n",
      "  from ._conv import register_converters as _register_converters\n"
     ]
    }
   ],
   "source": [
    "import numpy as np\n",
    "import matplotlib.pyplot as plt\n",
    "import h5py\n",
    "import scipy\n",
    "from PIL import Image\n",
    "from scipy import ndimage\n",
    "import pandas as pd\n",
    "\n",
    "%matplotlib inline"
   ]
  },
  {
   "cell_type": "markdown",
   "metadata": {},
   "source": [
    "# 2 - Overview of the Problem set\n",
    "Problem Statement: You are given a dataset (train.zip)&(test.zip) containing:\n",
    "\n",
    "- a training set of m_train images labeled as  cat (y=0) or dog (y=1)\n",
    "- a test set of m_test images labeled as cat or dog\n",
    "- each image is of shape (num_px, num_px, 3) where 3 is for the 3 channels (RGB). Thus, each image is square (height = num_px) and (width = num_px).\n",
    "\n",
    "- Here I will do 3 subtasks \n",
    "### 1.Making a sample dataset which contains only a subset of train, valid \n",
    "### 2.Since we don't have output data specifically ,but using the images names i have builded a output array\n",
    "### 3.For some reason , our input dataset images are of different size , i have resized each picture to a size of 64,64,3 so it will be helpful in future stage and make every picture size consistent"
   ]
  },
  {
   "cell_type": "code",
   "execution_count": 3,
   "metadata": {},
   "outputs": [
    {
     "name": "stdout",
     "output_type": "stream",
     "text": [
      "/Users/nagasudheerravela/Desktop/catsdogs\n"
     ]
    }
   ],
   "source": [
    "%cd /Users/nagasudheerravela/Desktop/catsdogs\n"
   ]
  },
  {
   "cell_type": "code",
   "execution_count": 4,
   "metadata": {},
   "outputs": [
    {
     "name": "stdout",
     "output_type": "stream",
     "text": [
      "/Users/nagasudheerravela/Desktop/catsdogs/data/redux\n"
     ]
    }
   ],
   "source": [
    "import os, sys\n",
    "current_dir = os.getcwd()\n",
    "LESSON_HOME_DIR = current_dir\n",
    "DATA_HOME_DIR = current_dir+'/data/redux'\n",
    "\n",
    "#Create validation set and training set\n",
    "%cd $DATA_HOME_DIR\n",
    "%mkdir valid\n",
    "%mkdir results\n",
    "%mkdir -p sample/train\n",
    "%mkdir -p sample/test\n",
    "%mkdir -p sample/valid\n",
    "%mkdir -p sample/results\n",
    "%mkdir -p test/unknown\n"
   ]
  },
  {
   "cell_type": "code",
   "execution_count": 5,
   "metadata": {},
   "outputs": [
    {
     "name": "stdout",
     "output_type": "stream",
     "text": [
      "/Users/nagasudheerravela/Desktop/catsdogs/data/redux/train\n"
     ]
    }
   ],
   "source": [
    "%cd $DATA_HOME_DIR/train"
   ]
  },
  {
   "cell_type": "markdown",
   "metadata": {},
   "source": [
    "For Randomly moving 2000 images to valid directory"
   ]
  },
  {
   "cell_type": "code",
   "execution_count": 6,
   "metadata": {
    "collapsed": true
   },
   "outputs": [],
   "source": [
    "import glob\n",
    "g = glob.glob('*.jpg')\n",
    "shuf = np.random.permutation(g)\n",
    "for i in range(2000): os.rename(shuf[i], DATA_HOME_DIR+'/valid/' + shuf[i])"
   ]
  },
  {
   "cell_type": "markdown",
   "metadata": {},
   "source": [
    "selecting 200 images from training dataset randomly and moving them sample dataset"
   ]
  },
  {
   "cell_type": "code",
   "execution_count": 7,
   "metadata": {
    "collapsed": true
   },
   "outputs": [],
   "source": [
    "from shutil import copyfile"
   ]
  },
  {
   "cell_type": "code",
   "execution_count": 8,
   "metadata": {
    "collapsed": true
   },
   "outputs": [],
   "source": [
    "g = glob.glob('*.jpg')\n",
    "shuf = np.random.permutation(g)\n",
    "for i in range(200): copyfile(shuf[i], DATA_HOME_DIR+'/sample/train/' + shuf[i])"
   ]
  },
  {
   "cell_type": "markdown",
   "metadata": {},
   "source": [
    "Check whether 200 images are in sample/train directory or not"
   ]
  },
  {
   "cell_type": "code",
   "execution_count": 9,
   "metadata": {},
   "outputs": [
    {
     "name": "stdout",
     "output_type": "stream",
     "text": [
      "cat.10092.jpg  cat.3442.jpg   cat.7507.jpg   dog.11275.jpg  dog.461.jpg\r\n",
      "cat.10197.jpg  cat.3497.jpg   cat.7550.jpg   dog.11431.jpg  dog.4634.jpg\r\n",
      "cat.10473.jpg  cat.353.jpg    cat.7562.jpg   dog.1167.jpg   dog.4692.jpg\r\n",
      "cat.1081.jpg   cat.3633.jpg   cat.7842.jpg   dog.11831.jpg  dog.4718.jpg\r\n",
      "cat.10880.jpg  cat.3689.jpg   cat.7892.jpg   dog.11845.jpg  dog.4754.jpg\r\n",
      "cat.10887.jpg  cat.385.jpg    cat.7896.jpg   dog.11880.jpg  dog.4779.jpg\r\n",
      "cat.11127.jpg  cat.3933.jpg   cat.7922.jpg   dog.11902.jpg  dog.4850.jpg\r\n",
      "cat.11278.jpg  cat.402.jpg    cat.7995.jpg   dog.11942.jpg  dog.4859.jpg\r\n",
      "cat.11368.jpg  cat.4044.jpg   cat.7998.jpg   dog.12027.jpg  dog.5024.jpg\r\n",
      "cat.11519.jpg  cat.4048.jpg   cat.8038.jpg   dog.12260.jpg  dog.5093.jpg\r\n",
      "cat.11714.jpg  cat.4164.jpg   cat.8304.jpg   dog.130.jpg    dog.5212.jpg\r\n",
      "cat.11745.jpg  cat.4256.jpg   cat.8371.jpg   dog.1444.jpg   dog.5515.jpg\r\n",
      "cat.11789.jpg  cat.4319.jpg   cat.8571.jpg   dog.1656.jpg   dog.5527.jpg\r\n",
      "cat.11856.jpg  cat.4401.jpg   cat.861.jpg    dog.1754.jpg   dog.5717.jpg\r\n",
      "cat.12019.jpg  cat.4505.jpg   cat.8801.jpg   dog.1802.jpg   dog.6146.jpg\r\n",
      "cat.1202.jpg   cat.4566.jpg   cat.89.jpg     dog.1806.jpg   dog.6676.jpg\r\n",
      "cat.12103.jpg  cat.4792.jpg   cat.9091.jpg   dog.1903.jpg   dog.6856.jpg\r\n",
      "cat.12213.jpg  cat.4801.jpg   cat.9156.jpg   dog.1994.jpg   dog.6859.jpg\r\n",
      "cat.12369.jpg  cat.4881.jpg   cat.9158.jpg   dog.1999.jpg   dog.7108.jpg\r\n",
      "cat.1249.jpg   cat.4990.jpg   cat.9174.jpg   dog.2413.jpg   dog.7238.jpg\r\n",
      "cat.1371.jpg   cat.506.jpg    cat.9281.jpg   dog.2494.jpg   dog.7283.jpg\r\n",
      "cat.1386.jpg   cat.5309.jpg   cat.9385.jpg   dog.2515.jpg   dog.7750.jpg\r\n",
      "cat.1464.jpg   cat.541.jpg    cat.9419.jpg   dog.2826.jpg   dog.7791.jpg\r\n",
      "cat.1726.jpg   cat.5445.jpg   cat.9441.jpg   dog.302.jpg    dog.7838.jpg\r\n",
      "cat.2083.jpg   cat.5450.jpg   cat.9724.jpg   dog.3033.jpg   dog.7852.jpg\r\n",
      "cat.2089.jpg   cat.5628.jpg   cat.9872.jpg   dog.3049.jpg   dog.788.jpg\r\n",
      "cat.2261.jpg   cat.5672.jpg   dog.10005.jpg  dog.308.jpg    dog.8128.jpg\r\n",
      "cat.2371.jpg   cat.5721.jpg   dog.10086.jpg  dog.3317.jpg   dog.8280.jpg\r\n",
      "cat.2393.jpg   cat.5755.jpg   dog.10124.jpg  dog.3330.jpg   dog.8331.jpg\r\n",
      "cat.2445.jpg   cat.5810.jpg   dog.10131.jpg  dog.3468.jpg   dog.8541.jpg\r\n",
      "cat.2502.jpg   cat.5929.jpg   dog.10198.jpg  dog.3500.jpg   dog.8747.jpg\r\n",
      "cat.2536.jpg   cat.6022.jpg   dog.10385.jpg  dog.3683.jpg   dog.8814.jpg\r\n",
      "cat.26.jpg     cat.6228.jpg   dog.10576.jpg  dog.3798.jpg   dog.892.jpg\r\n",
      "cat.2763.jpg   cat.6316.jpg   dog.10627.jpg  dog.4072.jpg   dog.9122.jpg\r\n",
      "cat.277.jpg    cat.6394.jpg   dog.10730.jpg  dog.4114.jpg   dog.9159.jpg\r\n",
      "cat.2814.jpg   cat.6558.jpg   dog.10833.jpg  dog.4153.jpg   dog.953.jpg\r\n",
      "cat.2877.jpg   cat.6594.jpg   dog.10897.jpg  dog.4168.jpg   dog.9581.jpg\r\n",
      "cat.3050.jpg   cat.6974.jpg   dog.10984.jpg  dog.4188.jpg   dog.9582.jpg\r\n",
      "cat.3099.jpg   cat.7031.jpg   dog.1099.jpg   dog.4409.jpg   dog.9703.jpg\r\n",
      "cat.324.jpg    cat.7134.jpg   dog.11230.jpg  dog.4567.jpg   dog.9819.jpg\r\n"
     ]
    }
   ],
   "source": [
    "%ls $DATA_HOME_DIR/sample/train"
   ]
  },
  {
   "cell_type": "code",
   "execution_count": 10,
   "metadata": {},
   "outputs": [
    {
     "name": "stdout",
     "output_type": "stream",
     "text": [
      "/Users/nagasudheerravela/Desktop/catsdogs/data/redux/valid\n"
     ]
    }
   ],
   "source": [
    "%cd $DATA_HOME_DIR/valid"
   ]
  },
  {
   "cell_type": "code",
   "execution_count": 11,
   "metadata": {
    "collapsed": true
   },
   "outputs": [],
   "source": [
    "g = glob.glob('*.jpg')\n",
    "shuf = np.random.permutation(g)\n",
    "for i in range(50): copyfile(shuf[i], DATA_HOME_DIR+'/sample/valid/' + shuf[i])"
   ]
  },
  {
   "cell_type": "code",
   "execution_count": 12,
   "metadata": {},
   "outputs": [
    {
     "name": "stdout",
     "output_type": "stream",
     "text": [
      "cat.10404.jpg  cat.5143.jpg   cat.7684.jpg   dog.1693.jpg   dog.5553.jpg\r\n",
      "cat.11149.jpg  cat.5220.jpg   cat.9701.jpg   dog.1796.jpg   dog.6045.jpg\r\n",
      "cat.11273.jpg  cat.5352.jpg   cat.9849.jpg   dog.1945.jpg   dog.6190.jpg\r\n",
      "cat.11878.jpg  cat.552.jpg    dog.10359.jpg  dog.2641.jpg   dog.6450.jpg\r\n",
      "cat.2457.jpg   cat.5586.jpg   dog.10639.jpg  dog.3485.jpg   dog.6594.jpg\r\n",
      "cat.2488.jpg   cat.5636.jpg   dog.10640.jpg  dog.3642.jpg   dog.6650.jpg\r\n",
      "cat.3002.jpg   cat.5646.jpg   dog.12119.jpg  dog.5070.jpg   dog.7449.jpg\r\n",
      "cat.3258.jpg   cat.6933.jpg   dog.12213.jpg  dog.5316.jpg   dog.7528.jpg\r\n",
      "cat.3815.jpg   cat.7192.jpg   dog.1285.jpg   dog.5395.jpg   dog.8946.jpg\r\n",
      "cat.4774.jpg   cat.7330.jpg   dog.1584.jpg   dog.5407.jpg   dog.9355.jpg\r\n"
     ]
    }
   ],
   "source": [
    "%ls $DATA_HOME_DIR/sample/valid"
   ]
  },
  {
   "cell_type": "markdown",
   "metadata": {},
   "source": [
    "### Now Our task is to copy files in the sample/train to a Numpy array and create 2 numpy arrays , one for\n",
    "### input and another for output"
   ]
  },
  {
   "cell_type": "code",
   "execution_count": 13,
   "metadata": {},
   "outputs": [
    {
     "data": {
      "text/plain": [
       "'/Users/nagasudheerravela/Desktop/catsdogs/data/redux/valid'"
      ]
     },
     "execution_count": 13,
     "metadata": {},
     "output_type": "execute_result"
    }
   ],
   "source": [
    "%pwd"
   ]
  },
  {
   "cell_type": "code",
   "execution_count": 14,
   "metadata": {},
   "outputs": [
    {
     "name": "stdout",
     "output_type": "stream",
     "text": [
      "/Users/nagasudheerravela/Desktop/catsdogs/data/redux/sample/train\n"
     ]
    }
   ],
   "source": [
    "%cd $DATA_HOME_DIR/sample/train"
   ]
  },
  {
   "cell_type": "code",
   "execution_count": 15,
   "metadata": {},
   "outputs": [
    {
     "name": "stdout",
     "output_type": "stream",
     "text": [
      "cat.10092.jpg  cat.3442.jpg   cat.7507.jpg   dog.11275.jpg  dog.461.jpg\r\n",
      "cat.10197.jpg  cat.3497.jpg   cat.7550.jpg   dog.11431.jpg  dog.4634.jpg\r\n",
      "cat.10473.jpg  cat.353.jpg    cat.7562.jpg   dog.1167.jpg   dog.4692.jpg\r\n",
      "cat.1081.jpg   cat.3633.jpg   cat.7842.jpg   dog.11831.jpg  dog.4718.jpg\r\n",
      "cat.10880.jpg  cat.3689.jpg   cat.7892.jpg   dog.11845.jpg  dog.4754.jpg\r\n",
      "cat.10887.jpg  cat.385.jpg    cat.7896.jpg   dog.11880.jpg  dog.4779.jpg\r\n",
      "cat.11127.jpg  cat.3933.jpg   cat.7922.jpg   dog.11902.jpg  dog.4850.jpg\r\n",
      "cat.11278.jpg  cat.402.jpg    cat.7995.jpg   dog.11942.jpg  dog.4859.jpg\r\n",
      "cat.11368.jpg  cat.4044.jpg   cat.7998.jpg   dog.12027.jpg  dog.5024.jpg\r\n",
      "cat.11519.jpg  cat.4048.jpg   cat.8038.jpg   dog.12260.jpg  dog.5093.jpg\r\n",
      "cat.11714.jpg  cat.4164.jpg   cat.8304.jpg   dog.130.jpg    dog.5212.jpg\r\n",
      "cat.11745.jpg  cat.4256.jpg   cat.8371.jpg   dog.1444.jpg   dog.5515.jpg\r\n",
      "cat.11789.jpg  cat.4319.jpg   cat.8571.jpg   dog.1656.jpg   dog.5527.jpg\r\n",
      "cat.11856.jpg  cat.4401.jpg   cat.861.jpg    dog.1754.jpg   dog.5717.jpg\r\n",
      "cat.12019.jpg  cat.4505.jpg   cat.8801.jpg   dog.1802.jpg   dog.6146.jpg\r\n",
      "cat.1202.jpg   cat.4566.jpg   cat.89.jpg     dog.1806.jpg   dog.6676.jpg\r\n",
      "cat.12103.jpg  cat.4792.jpg   cat.9091.jpg   dog.1903.jpg   dog.6856.jpg\r\n",
      "cat.12213.jpg  cat.4801.jpg   cat.9156.jpg   dog.1994.jpg   dog.6859.jpg\r\n",
      "cat.12369.jpg  cat.4881.jpg   cat.9158.jpg   dog.1999.jpg   dog.7108.jpg\r\n",
      "cat.1249.jpg   cat.4990.jpg   cat.9174.jpg   dog.2413.jpg   dog.7238.jpg\r\n",
      "cat.1371.jpg   cat.506.jpg    cat.9281.jpg   dog.2494.jpg   dog.7283.jpg\r\n",
      "cat.1386.jpg   cat.5309.jpg   cat.9385.jpg   dog.2515.jpg   dog.7750.jpg\r\n",
      "cat.1464.jpg   cat.541.jpg    cat.9419.jpg   dog.2826.jpg   dog.7791.jpg\r\n",
      "cat.1726.jpg   cat.5445.jpg   cat.9441.jpg   dog.302.jpg    dog.7838.jpg\r\n",
      "cat.2083.jpg   cat.5450.jpg   cat.9724.jpg   dog.3033.jpg   dog.7852.jpg\r\n",
      "cat.2089.jpg   cat.5628.jpg   cat.9872.jpg   dog.3049.jpg   dog.788.jpg\r\n",
      "cat.2261.jpg   cat.5672.jpg   dog.10005.jpg  dog.308.jpg    dog.8128.jpg\r\n",
      "cat.2371.jpg   cat.5721.jpg   dog.10086.jpg  dog.3317.jpg   dog.8280.jpg\r\n",
      "cat.2393.jpg   cat.5755.jpg   dog.10124.jpg  dog.3330.jpg   dog.8331.jpg\r\n",
      "cat.2445.jpg   cat.5810.jpg   dog.10131.jpg  dog.3468.jpg   dog.8541.jpg\r\n",
      "cat.2502.jpg   cat.5929.jpg   dog.10198.jpg  dog.3500.jpg   dog.8747.jpg\r\n",
      "cat.2536.jpg   cat.6022.jpg   dog.10385.jpg  dog.3683.jpg   dog.8814.jpg\r\n",
      "cat.26.jpg     cat.6228.jpg   dog.10576.jpg  dog.3798.jpg   dog.892.jpg\r\n",
      "cat.2763.jpg   cat.6316.jpg   dog.10627.jpg  dog.4072.jpg   dog.9122.jpg\r\n",
      "cat.277.jpg    cat.6394.jpg   dog.10730.jpg  dog.4114.jpg   dog.9159.jpg\r\n",
      "cat.2814.jpg   cat.6558.jpg   dog.10833.jpg  dog.4153.jpg   dog.953.jpg\r\n",
      "cat.2877.jpg   cat.6594.jpg   dog.10897.jpg  dog.4168.jpg   dog.9581.jpg\r\n",
      "cat.3050.jpg   cat.6974.jpg   dog.10984.jpg  dog.4188.jpg   dog.9582.jpg\r\n",
      "cat.3099.jpg   cat.7031.jpg   dog.1099.jpg   dog.4409.jpg   dog.9703.jpg\r\n",
      "cat.324.jpg    cat.7134.jpg   dog.11230.jpg  dog.4567.jpg   dog.9819.jpg\r\n"
     ]
    }
   ],
   "source": [
    "%ls"
   ]
  },
  {
   "cell_type": "code",
   "execution_count": 16,
   "metadata": {},
   "outputs": [
    {
     "ename": "FileNotFoundError",
     "evalue": "[Errno 2] No such file or directory: 'cat.8001.jpg'",
     "output_type": "error",
     "traceback": [
      "\u001b[0;31m---------------------------------------------------------------------------\u001b[0m",
      "\u001b[0;31mFileNotFoundError\u001b[0m                         Traceback (most recent call last)",
      "\u001b[0;32m<ipython-input-16-79f472a46bf4>\u001b[0m in \u001b[0;36m<module>\u001b[0;34m()\u001b[0m\n\u001b[0;32m----> 1\u001b[0;31m \u001b[0mimage\u001b[0m \u001b[0;34m=\u001b[0m \u001b[0mImage\u001b[0m\u001b[0;34m.\u001b[0m\u001b[0mopen\u001b[0m\u001b[0;34m(\u001b[0m\u001b[0;34m'cat.8001.jpg'\u001b[0m\u001b[0;34m)\u001b[0m\u001b[0;34m\u001b[0m\u001b[0m\n\u001b[0m\u001b[1;32m      2\u001b[0m \u001b[0mnparray\u001b[0m\u001b[0;34m=\u001b[0m\u001b[0mnp\u001b[0m\u001b[0;34m.\u001b[0m\u001b[0marray\u001b[0m\u001b[0;34m(\u001b[0m\u001b[0mimage\u001b[0m\u001b[0;34m)\u001b[0m\u001b[0;34m\u001b[0m\u001b[0m\n",
      "\u001b[0;32m/anaconda3/lib/python3.6/site-packages/PIL/Image.py\u001b[0m in \u001b[0;36mopen\u001b[0;34m(fp, mode)\u001b[0m\n\u001b[1;32m   2475\u001b[0m \u001b[0;34m\u001b[0m\u001b[0m\n\u001b[1;32m   2476\u001b[0m     \u001b[0;32mif\u001b[0m \u001b[0mfilename\u001b[0m\u001b[0;34m:\u001b[0m\u001b[0;34m\u001b[0m\u001b[0m\n\u001b[0;32m-> 2477\u001b[0;31m         \u001b[0mfp\u001b[0m \u001b[0;34m=\u001b[0m \u001b[0mbuiltins\u001b[0m\u001b[0;34m.\u001b[0m\u001b[0mopen\u001b[0m\u001b[0;34m(\u001b[0m\u001b[0mfilename\u001b[0m\u001b[0;34m,\u001b[0m \u001b[0;34m\"rb\"\u001b[0m\u001b[0;34m)\u001b[0m\u001b[0;34m\u001b[0m\u001b[0m\n\u001b[0m\u001b[1;32m   2478\u001b[0m         \u001b[0mexclusive_fp\u001b[0m \u001b[0;34m=\u001b[0m \u001b[0;32mTrue\u001b[0m\u001b[0;34m\u001b[0m\u001b[0m\n\u001b[1;32m   2479\u001b[0m \u001b[0;34m\u001b[0m\u001b[0m\n",
      "\u001b[0;31mFileNotFoundError\u001b[0m: [Errno 2] No such file or directory: 'cat.8001.jpg'"
     ]
    }
   ],
   "source": [
    "#image = Image.open('cat.8001.jpg')\n",
    "#nparray=np.array(image)"
   ]
  },
  {
   "cell_type": "code",
   "execution_count": null,
   "metadata": {
    "collapsed": true
   },
   "outputs": [],
   "source": [
    "#no use\n",
    "#print(nparray.shape)"
   ]
  },
  {
   "cell_type": "code",
   "execution_count": null,
   "metadata": {
    "collapsed": true
   },
   "outputs": [],
   "source": [
    "#no use\n",
    "\n",
    "#import glob\n",
    "#filelist = glob.glob('*.jpg')\n",
    "#df = pd.DataFrame(filelist) "
   ]
  },
  {
   "cell_type": "code",
   "execution_count": null,
   "metadata": {
    "collapsed": true
   },
   "outputs": [],
   "source": [
    "#no use\n",
    "\n",
    "#Output1 = []\n",
    "#Output2 = []\n",
    "#for row in df[0]:\n",
    " #   Output1.append(row[0])"
   ]
  },
  {
   "cell_type": "code",
   "execution_count": null,
   "metadata": {
    "collapsed": true
   },
   "outputs": [],
   "source": [
    "#no use\n",
    "#print(Output1)"
   ]
  },
  {
   "cell_type": "code",
   "execution_count": null,
   "metadata": {
    "collapsed": true
   },
   "outputs": [],
   "source": [
    "#no use\n",
    "#for i in Output1 :\n",
    " #     if i == 'c' :\n",
    "  #          Output2.append(0)\n",
    "       \n",
    "   #   else :\n",
    "    #        Output2.append(1)\n",
    " "
   ]
  },
  {
   "cell_type": "code",
   "execution_count": null,
   "metadata": {
    "collapsed": true
   },
   "outputs": [],
   "source": [
    "#no use\n",
    "#print(Output2)"
   ]
  },
  {
   "cell_type": "markdown",
   "metadata": {},
   "source": [
    "Here we can see outputs of each image have been transferred to 0 or 1 respectively, now lets concatinate all the inputs to make a single dataframe   "
   ]
  },
  {
   "cell_type": "code",
   "execution_count": 17,
   "metadata": {
    "collapsed": true
   },
   "outputs": [],
   "source": [
    "from PIL import Image\n",
    "import glob, os\n",
    "from resizeimage import resizeimage\n",
    "\n",
    "for infile in glob.glob(\"*.jpg\"):\n",
    "      with open(infile, 'r+b') as f:\n",
    "        with Image.open(f) as image:\n",
    "             cover = resizeimage.resize_cover(image, [64, 64])\n",
    "             cover.save(infile+'.edited', image.format)"
   ]
  },
  {
   "cell_type": "code",
   "execution_count": 18,
   "metadata": {},
   "outputs": [
    {
     "name": "stdout",
     "output_type": "stream",
     "text": [
      "cat.10092.jpg         cat.5721.jpg          dog.1802.jpg\r\n",
      "cat.10092.jpg.edited  cat.5721.jpg.edited   dog.1802.jpg.edited\r\n",
      "cat.10197.jpg         cat.5755.jpg          dog.1806.jpg\r\n",
      "cat.10197.jpg.edited  cat.5755.jpg.edited   dog.1806.jpg.edited\r\n",
      "cat.10473.jpg         cat.5810.jpg          dog.1903.jpg\r\n",
      "cat.10473.jpg.edited  cat.5810.jpg.edited   dog.1903.jpg.edited\r\n",
      "cat.1081.jpg          cat.5929.jpg          dog.1994.jpg\r\n",
      "cat.1081.jpg.edited   cat.5929.jpg.edited   dog.1994.jpg.edited\r\n",
      "cat.10880.jpg         cat.6022.jpg          dog.1999.jpg\r\n",
      "cat.10880.jpg.edited  cat.6022.jpg.edited   dog.1999.jpg.edited\r\n",
      "cat.10887.jpg         cat.6228.jpg          dog.2413.jpg\r\n",
      "cat.10887.jpg.edited  cat.6228.jpg.edited   dog.2413.jpg.edited\r\n",
      "cat.11127.jpg         cat.6316.jpg          dog.2494.jpg\r\n",
      "cat.11127.jpg.edited  cat.6316.jpg.edited   dog.2494.jpg.edited\r\n",
      "cat.11278.jpg         cat.6394.jpg          dog.2515.jpg\r\n",
      "cat.11278.jpg.edited  cat.6394.jpg.edited   dog.2515.jpg.edited\r\n",
      "cat.11368.jpg         cat.6558.jpg          dog.2826.jpg\r\n",
      "cat.11368.jpg.edited  cat.6558.jpg.edited   dog.2826.jpg.edited\r\n",
      "cat.11519.jpg         cat.6594.jpg          dog.302.jpg\r\n",
      "cat.11519.jpg.edited  cat.6594.jpg.edited   dog.302.jpg.edited\r\n",
      "cat.11714.jpg         cat.6974.jpg          dog.3033.jpg\r\n",
      "cat.11714.jpg.edited  cat.6974.jpg.edited   dog.3033.jpg.edited\r\n",
      "cat.11745.jpg         cat.7031.jpg          dog.3049.jpg\r\n",
      "cat.11745.jpg.edited  cat.7031.jpg.edited   dog.3049.jpg.edited\r\n",
      "cat.11789.jpg         cat.7134.jpg          dog.308.jpg\r\n",
      "cat.11789.jpg.edited  cat.7134.jpg.edited   dog.308.jpg.edited\r\n",
      "cat.11856.jpg         cat.7507.jpg          dog.3317.jpg\r\n",
      "cat.11856.jpg.edited  cat.7507.jpg.edited   dog.3317.jpg.edited\r\n",
      "cat.12019.jpg         cat.7550.jpg          dog.3330.jpg\r\n",
      "cat.12019.jpg.edited  cat.7550.jpg.edited   dog.3330.jpg.edited\r\n",
      "cat.1202.jpg          cat.7562.jpg          dog.3468.jpg\r\n",
      "cat.1202.jpg.edited   cat.7562.jpg.edited   dog.3468.jpg.edited\r\n",
      "cat.12103.jpg         cat.7842.jpg          dog.3500.jpg\r\n",
      "cat.12103.jpg.edited  cat.7842.jpg.edited   dog.3500.jpg.edited\r\n",
      "cat.12213.jpg         cat.7892.jpg          dog.3683.jpg\r\n",
      "cat.12213.jpg.edited  cat.7892.jpg.edited   dog.3683.jpg.edited\r\n",
      "cat.12369.jpg         cat.7896.jpg          dog.3798.jpg\r\n",
      "cat.12369.jpg.edited  cat.7896.jpg.edited   dog.3798.jpg.edited\r\n",
      "cat.1249.jpg          cat.7922.jpg          dog.4072.jpg\r\n",
      "cat.1249.jpg.edited   cat.7922.jpg.edited   dog.4072.jpg.edited\r\n",
      "cat.1371.jpg          cat.7995.jpg          dog.4114.jpg\r\n",
      "cat.1371.jpg.edited   cat.7995.jpg.edited   dog.4114.jpg.edited\r\n",
      "cat.1386.jpg          cat.7998.jpg          dog.4153.jpg\r\n",
      "cat.1386.jpg.edited   cat.7998.jpg.edited   dog.4153.jpg.edited\r\n",
      "cat.1464.jpg          cat.8038.jpg          dog.4168.jpg\r\n",
      "cat.1464.jpg.edited   cat.8038.jpg.edited   dog.4168.jpg.edited\r\n",
      "cat.1726.jpg          cat.8304.jpg          dog.4188.jpg\r\n",
      "cat.1726.jpg.edited   cat.8304.jpg.edited   dog.4188.jpg.edited\r\n",
      "cat.2083.jpg          cat.8371.jpg          dog.4409.jpg\r\n",
      "cat.2083.jpg.edited   cat.8371.jpg.edited   dog.4409.jpg.edited\r\n",
      "cat.2089.jpg          cat.8571.jpg          dog.4567.jpg\r\n",
      "cat.2089.jpg.edited   cat.8571.jpg.edited   dog.4567.jpg.edited\r\n",
      "cat.2261.jpg          cat.861.jpg           dog.461.jpg\r\n",
      "cat.2261.jpg.edited   cat.861.jpg.edited    dog.461.jpg.edited\r\n",
      "cat.2371.jpg          cat.8801.jpg          dog.4634.jpg\r\n",
      "cat.2371.jpg.edited   cat.8801.jpg.edited   dog.4634.jpg.edited\r\n",
      "cat.2393.jpg          cat.89.jpg            dog.4692.jpg\r\n",
      "cat.2393.jpg.edited   cat.89.jpg.edited     dog.4692.jpg.edited\r\n",
      "cat.2445.jpg          cat.9091.jpg          dog.4718.jpg\r\n",
      "cat.2445.jpg.edited   cat.9091.jpg.edited   dog.4718.jpg.edited\r\n",
      "cat.2502.jpg          cat.9156.jpg          dog.4754.jpg\r\n",
      "cat.2502.jpg.edited   cat.9156.jpg.edited   dog.4754.jpg.edited\r\n",
      "cat.2536.jpg          cat.9158.jpg          dog.4779.jpg\r\n",
      "cat.2536.jpg.edited   cat.9158.jpg.edited   dog.4779.jpg.edited\r\n",
      "cat.26.jpg            cat.9174.jpg          dog.4850.jpg\r\n",
      "cat.26.jpg.edited     cat.9174.jpg.edited   dog.4850.jpg.edited\r\n",
      "cat.2763.jpg          cat.9281.jpg          dog.4859.jpg\r\n",
      "cat.2763.jpg.edited   cat.9281.jpg.edited   dog.4859.jpg.edited\r\n",
      "cat.277.jpg           cat.9385.jpg          dog.5024.jpg\r\n",
      "cat.277.jpg.edited    cat.9385.jpg.edited   dog.5024.jpg.edited\r\n",
      "cat.2814.jpg          cat.9419.jpg          dog.5093.jpg\r\n",
      "cat.2814.jpg.edited   cat.9419.jpg.edited   dog.5093.jpg.edited\r\n",
      "cat.2877.jpg          cat.9441.jpg          dog.5212.jpg\r\n",
      "cat.2877.jpg.edited   cat.9441.jpg.edited   dog.5212.jpg.edited\r\n",
      "cat.3050.jpg          cat.9724.jpg          dog.5515.jpg\r\n",
      "cat.3050.jpg.edited   cat.9724.jpg.edited   dog.5515.jpg.edited\r\n",
      "cat.3099.jpg          cat.9872.jpg          dog.5527.jpg\r\n",
      "cat.3099.jpg.edited   cat.9872.jpg.edited   dog.5527.jpg.edited\r\n",
      "cat.324.jpg           dog.10005.jpg         dog.5717.jpg\r\n",
      "cat.324.jpg.edited    dog.10005.jpg.edited  dog.5717.jpg.edited\r\n",
      "cat.3442.jpg          dog.10086.jpg         dog.6146.jpg\r\n",
      "cat.3442.jpg.edited   dog.10086.jpg.edited  dog.6146.jpg.edited\r\n",
      "cat.3497.jpg          dog.10124.jpg         dog.6676.jpg\r\n",
      "cat.3497.jpg.edited   dog.10124.jpg.edited  dog.6676.jpg.edited\r\n",
      "cat.353.jpg           dog.10131.jpg         dog.6856.jpg\r\n",
      "cat.353.jpg.edited    dog.10131.jpg.edited  dog.6856.jpg.edited\r\n",
      "cat.3633.jpg          dog.10198.jpg         dog.6859.jpg\r\n",
      "cat.3633.jpg.edited   dog.10198.jpg.edited  dog.6859.jpg.edited\r\n",
      "cat.3689.jpg          dog.10385.jpg         dog.7108.jpg\r\n",
      "cat.3689.jpg.edited   dog.10385.jpg.edited  dog.7108.jpg.edited\r\n",
      "cat.385.jpg           dog.10576.jpg         dog.7238.jpg\r\n",
      "cat.385.jpg.edited    dog.10576.jpg.edited  dog.7238.jpg.edited\r\n",
      "cat.3933.jpg          dog.10627.jpg         dog.7283.jpg\r\n",
      "cat.3933.jpg.edited   dog.10627.jpg.edited  dog.7283.jpg.edited\r\n",
      "cat.402.jpg           dog.10730.jpg         dog.7750.jpg\r\n",
      "cat.402.jpg.edited    dog.10730.jpg.edited  dog.7750.jpg.edited\r\n",
      "cat.4044.jpg          dog.10833.jpg         dog.7791.jpg\r\n",
      "cat.4044.jpg.edited   dog.10833.jpg.edited  dog.7791.jpg.edited\r\n",
      "cat.4048.jpg          dog.10897.jpg         dog.7838.jpg\r\n",
      "cat.4048.jpg.edited   dog.10897.jpg.edited  dog.7838.jpg.edited\r\n",
      "cat.4164.jpg          dog.10984.jpg         dog.7852.jpg\r\n",
      "cat.4164.jpg.edited   dog.10984.jpg.edited  dog.7852.jpg.edited\r\n",
      "cat.4256.jpg          dog.1099.jpg          dog.788.jpg\r\n",
      "cat.4256.jpg.edited   dog.1099.jpg.edited   dog.788.jpg.edited\r\n",
      "cat.4319.jpg          dog.11230.jpg         dog.8128.jpg\r\n",
      "cat.4319.jpg.edited   dog.11230.jpg.edited  dog.8128.jpg.edited\r\n",
      "cat.4401.jpg          dog.11275.jpg         dog.8280.jpg\r\n",
      "cat.4401.jpg.edited   dog.11275.jpg.edited  dog.8280.jpg.edited\r\n",
      "cat.4505.jpg          dog.11431.jpg         dog.8331.jpg\r\n",
      "cat.4505.jpg.edited   dog.11431.jpg.edited  dog.8331.jpg.edited\r\n",
      "cat.4566.jpg          dog.1167.jpg          dog.8541.jpg\r\n",
      "cat.4566.jpg.edited   dog.1167.jpg.edited   dog.8541.jpg.edited\r\n",
      "cat.4792.jpg          dog.11831.jpg         dog.8747.jpg\r\n",
      "cat.4792.jpg.edited   dog.11831.jpg.edited  dog.8747.jpg.edited\r\n",
      "cat.4801.jpg          dog.11845.jpg         dog.8814.jpg\r\n",
      "cat.4801.jpg.edited   dog.11845.jpg.edited  dog.8814.jpg.edited\r\n",
      "cat.4881.jpg          dog.11880.jpg         dog.892.jpg\r\n",
      "cat.4881.jpg.edited   dog.11880.jpg.edited  dog.892.jpg.edited\r\n",
      "cat.4990.jpg          dog.11902.jpg         dog.9122.jpg\r\n",
      "cat.4990.jpg.edited   dog.11902.jpg.edited  dog.9122.jpg.edited\r\n",
      "cat.506.jpg           dog.11942.jpg         dog.9159.jpg\r\n",
      "cat.506.jpg.edited    dog.11942.jpg.edited  dog.9159.jpg.edited\r\n",
      "cat.5309.jpg          dog.12027.jpg         dog.953.jpg\r\n",
      "cat.5309.jpg.edited   dog.12027.jpg.edited  dog.953.jpg.edited\r\n",
      "cat.541.jpg           dog.12260.jpg         dog.9581.jpg\r\n",
      "cat.541.jpg.edited    dog.12260.jpg.edited  dog.9581.jpg.edited\r\n",
      "cat.5445.jpg          dog.130.jpg           dog.9582.jpg\r\n",
      "cat.5445.jpg.edited   dog.130.jpg.edited    dog.9582.jpg.edited\r\n",
      "cat.5450.jpg          dog.1444.jpg          dog.9703.jpg\r\n",
      "cat.5450.jpg.edited   dog.1444.jpg.edited   dog.9703.jpg.edited\r\n",
      "cat.5628.jpg          dog.1656.jpg          dog.9819.jpg\r\n",
      "cat.5628.jpg.edited   dog.1656.jpg.edited   dog.9819.jpg.edited\r\n",
      "cat.5672.jpg          dog.1754.jpg\r\n",
      "cat.5672.jpg.edited   dog.1754.jpg.edited\r\n"
     ]
    }
   ],
   "source": [
    "%ls"
   ]
  },
  {
   "cell_type": "code",
   "execution_count": null,
   "metadata": {
    "collapsed": true
   },
   "outputs": [],
   "source": [
    "image = Image.open('cat.4539.jpg')\n",
    "nparray=np.array(image)\n",
    "print(nparray[:,:].shape)\n",
    "plt.imshow(image)\n",
    "\n"
   ]
  },
  {
   "cell_type": "code",
   "execution_count": null,
   "metadata": {
    "collapsed": true
   },
   "outputs": [],
   "source": [
    "image = Image.open('cat.4539.jpg.edited')\n",
    "nparray=np.array(image)\n",
    "print(nparray[:,:].shape)\n",
    "plt.imshow(image)\n"
   ]
  },
  {
   "cell_type": "code",
   "execution_count": 19,
   "metadata": {},
   "outputs": [
    {
     "name": "stdout",
     "output_type": "stream",
     "text": [
      "cat.10092.jpg         cat.5721.jpg          dog.1802.jpg\r\n",
      "cat.10092.jpg.edited  cat.5721.jpg.edited   dog.1802.jpg.edited\r\n",
      "cat.10197.jpg         cat.5755.jpg          dog.1806.jpg\r\n",
      "cat.10197.jpg.edited  cat.5755.jpg.edited   dog.1806.jpg.edited\r\n",
      "cat.10473.jpg         cat.5810.jpg          dog.1903.jpg\r\n",
      "cat.10473.jpg.edited  cat.5810.jpg.edited   dog.1903.jpg.edited\r\n",
      "cat.1081.jpg          cat.5929.jpg          dog.1994.jpg\r\n",
      "cat.1081.jpg.edited   cat.5929.jpg.edited   dog.1994.jpg.edited\r\n",
      "cat.10880.jpg         cat.6022.jpg          dog.1999.jpg\r\n",
      "cat.10880.jpg.edited  cat.6022.jpg.edited   dog.1999.jpg.edited\r\n",
      "cat.10887.jpg         cat.6228.jpg          dog.2413.jpg\r\n",
      "cat.10887.jpg.edited  cat.6228.jpg.edited   dog.2413.jpg.edited\r\n",
      "cat.11127.jpg         cat.6316.jpg          dog.2494.jpg\r\n",
      "cat.11127.jpg.edited  cat.6316.jpg.edited   dog.2494.jpg.edited\r\n",
      "cat.11278.jpg         cat.6394.jpg          dog.2515.jpg\r\n",
      "cat.11278.jpg.edited  cat.6394.jpg.edited   dog.2515.jpg.edited\r\n",
      "cat.11368.jpg         cat.6558.jpg          dog.2826.jpg\r\n",
      "cat.11368.jpg.edited  cat.6558.jpg.edited   dog.2826.jpg.edited\r\n",
      "cat.11519.jpg         cat.6594.jpg          dog.302.jpg\r\n",
      "cat.11519.jpg.edited  cat.6594.jpg.edited   dog.302.jpg.edited\r\n",
      "cat.11714.jpg         cat.6974.jpg          dog.3033.jpg\r\n",
      "cat.11714.jpg.edited  cat.6974.jpg.edited   dog.3033.jpg.edited\r\n",
      "cat.11745.jpg         cat.7031.jpg          dog.3049.jpg\r\n",
      "cat.11745.jpg.edited  cat.7031.jpg.edited   dog.3049.jpg.edited\r\n",
      "cat.11789.jpg         cat.7134.jpg          dog.308.jpg\r\n",
      "cat.11789.jpg.edited  cat.7134.jpg.edited   dog.308.jpg.edited\r\n",
      "cat.11856.jpg         cat.7507.jpg          dog.3317.jpg\r\n",
      "cat.11856.jpg.edited  cat.7507.jpg.edited   dog.3317.jpg.edited\r\n",
      "cat.12019.jpg         cat.7550.jpg          dog.3330.jpg\r\n",
      "cat.12019.jpg.edited  cat.7550.jpg.edited   dog.3330.jpg.edited\r\n",
      "cat.1202.jpg          cat.7562.jpg          dog.3468.jpg\r\n",
      "cat.1202.jpg.edited   cat.7562.jpg.edited   dog.3468.jpg.edited\r\n",
      "cat.12103.jpg         cat.7842.jpg          dog.3500.jpg\r\n",
      "cat.12103.jpg.edited  cat.7842.jpg.edited   dog.3500.jpg.edited\r\n",
      "cat.12213.jpg         cat.7892.jpg          dog.3683.jpg\r\n",
      "cat.12213.jpg.edited  cat.7892.jpg.edited   dog.3683.jpg.edited\r\n",
      "cat.12369.jpg         cat.7896.jpg          dog.3798.jpg\r\n",
      "cat.12369.jpg.edited  cat.7896.jpg.edited   dog.3798.jpg.edited\r\n",
      "cat.1249.jpg          cat.7922.jpg          dog.4072.jpg\r\n",
      "cat.1249.jpg.edited   cat.7922.jpg.edited   dog.4072.jpg.edited\r\n",
      "cat.1371.jpg          cat.7995.jpg          dog.4114.jpg\r\n",
      "cat.1371.jpg.edited   cat.7995.jpg.edited   dog.4114.jpg.edited\r\n",
      "cat.1386.jpg          cat.7998.jpg          dog.4153.jpg\r\n",
      "cat.1386.jpg.edited   cat.7998.jpg.edited   dog.4153.jpg.edited\r\n",
      "cat.1464.jpg          cat.8038.jpg          dog.4168.jpg\r\n",
      "cat.1464.jpg.edited   cat.8038.jpg.edited   dog.4168.jpg.edited\r\n",
      "cat.1726.jpg          cat.8304.jpg          dog.4188.jpg\r\n",
      "cat.1726.jpg.edited   cat.8304.jpg.edited   dog.4188.jpg.edited\r\n",
      "cat.2083.jpg          cat.8371.jpg          dog.4409.jpg\r\n",
      "cat.2083.jpg.edited   cat.8371.jpg.edited   dog.4409.jpg.edited\r\n",
      "cat.2089.jpg          cat.8571.jpg          dog.4567.jpg\r\n",
      "cat.2089.jpg.edited   cat.8571.jpg.edited   dog.4567.jpg.edited\r\n",
      "cat.2261.jpg          cat.861.jpg           dog.461.jpg\r\n",
      "cat.2261.jpg.edited   cat.861.jpg.edited    dog.461.jpg.edited\r\n",
      "cat.2371.jpg          cat.8801.jpg          dog.4634.jpg\r\n",
      "cat.2371.jpg.edited   cat.8801.jpg.edited   dog.4634.jpg.edited\r\n",
      "cat.2393.jpg          cat.89.jpg            dog.4692.jpg\r\n",
      "cat.2393.jpg.edited   cat.89.jpg.edited     dog.4692.jpg.edited\r\n",
      "cat.2445.jpg          cat.9091.jpg          dog.4718.jpg\r\n",
      "cat.2445.jpg.edited   cat.9091.jpg.edited   dog.4718.jpg.edited\r\n",
      "cat.2502.jpg          cat.9156.jpg          dog.4754.jpg\r\n",
      "cat.2502.jpg.edited   cat.9156.jpg.edited   dog.4754.jpg.edited\r\n",
      "cat.2536.jpg          cat.9158.jpg          dog.4779.jpg\r\n",
      "cat.2536.jpg.edited   cat.9158.jpg.edited   dog.4779.jpg.edited\r\n",
      "cat.26.jpg            cat.9174.jpg          dog.4850.jpg\r\n",
      "cat.26.jpg.edited     cat.9174.jpg.edited   dog.4850.jpg.edited\r\n",
      "cat.2763.jpg          cat.9281.jpg          dog.4859.jpg\r\n",
      "cat.2763.jpg.edited   cat.9281.jpg.edited   dog.4859.jpg.edited\r\n",
      "cat.277.jpg           cat.9385.jpg          dog.5024.jpg\r\n",
      "cat.277.jpg.edited    cat.9385.jpg.edited   dog.5024.jpg.edited\r\n",
      "cat.2814.jpg          cat.9419.jpg          dog.5093.jpg\r\n",
      "cat.2814.jpg.edited   cat.9419.jpg.edited   dog.5093.jpg.edited\r\n",
      "cat.2877.jpg          cat.9441.jpg          dog.5212.jpg\r\n",
      "cat.2877.jpg.edited   cat.9441.jpg.edited   dog.5212.jpg.edited\r\n",
      "cat.3050.jpg          cat.9724.jpg          dog.5515.jpg\r\n",
      "cat.3050.jpg.edited   cat.9724.jpg.edited   dog.5515.jpg.edited\r\n",
      "cat.3099.jpg          cat.9872.jpg          dog.5527.jpg\r\n",
      "cat.3099.jpg.edited   cat.9872.jpg.edited   dog.5527.jpg.edited\r\n",
      "cat.324.jpg           dog.10005.jpg         dog.5717.jpg\r\n",
      "cat.324.jpg.edited    dog.10005.jpg.edited  dog.5717.jpg.edited\r\n",
      "cat.3442.jpg          dog.10086.jpg         dog.6146.jpg\r\n",
      "cat.3442.jpg.edited   dog.10086.jpg.edited  dog.6146.jpg.edited\r\n",
      "cat.3497.jpg          dog.10124.jpg         dog.6676.jpg\r\n",
      "cat.3497.jpg.edited   dog.10124.jpg.edited  dog.6676.jpg.edited\r\n",
      "cat.353.jpg           dog.10131.jpg         dog.6856.jpg\r\n",
      "cat.353.jpg.edited    dog.10131.jpg.edited  dog.6856.jpg.edited\r\n",
      "cat.3633.jpg          dog.10198.jpg         dog.6859.jpg\r\n",
      "cat.3633.jpg.edited   dog.10198.jpg.edited  dog.6859.jpg.edited\r\n",
      "cat.3689.jpg          dog.10385.jpg         dog.7108.jpg\r\n",
      "cat.3689.jpg.edited   dog.10385.jpg.edited  dog.7108.jpg.edited\r\n",
      "cat.385.jpg           dog.10576.jpg         dog.7238.jpg\r\n",
      "cat.385.jpg.edited    dog.10576.jpg.edited  dog.7238.jpg.edited\r\n",
      "cat.3933.jpg          dog.10627.jpg         dog.7283.jpg\r\n",
      "cat.3933.jpg.edited   dog.10627.jpg.edited  dog.7283.jpg.edited\r\n",
      "cat.402.jpg           dog.10730.jpg         dog.7750.jpg\r\n",
      "cat.402.jpg.edited    dog.10730.jpg.edited  dog.7750.jpg.edited\r\n",
      "cat.4044.jpg          dog.10833.jpg         dog.7791.jpg\r\n",
      "cat.4044.jpg.edited   dog.10833.jpg.edited  dog.7791.jpg.edited\r\n",
      "cat.4048.jpg          dog.10897.jpg         dog.7838.jpg\r\n",
      "cat.4048.jpg.edited   dog.10897.jpg.edited  dog.7838.jpg.edited\r\n",
      "cat.4164.jpg          dog.10984.jpg         dog.7852.jpg\r\n",
      "cat.4164.jpg.edited   dog.10984.jpg.edited  dog.7852.jpg.edited\r\n",
      "cat.4256.jpg          dog.1099.jpg          dog.788.jpg\r\n",
      "cat.4256.jpg.edited   dog.1099.jpg.edited   dog.788.jpg.edited\r\n",
      "cat.4319.jpg          dog.11230.jpg         dog.8128.jpg\r\n",
      "cat.4319.jpg.edited   dog.11230.jpg.edited  dog.8128.jpg.edited\r\n",
      "cat.4401.jpg          dog.11275.jpg         dog.8280.jpg\r\n",
      "cat.4401.jpg.edited   dog.11275.jpg.edited  dog.8280.jpg.edited\r\n",
      "cat.4505.jpg          dog.11431.jpg         dog.8331.jpg\r\n",
      "cat.4505.jpg.edited   dog.11431.jpg.edited  dog.8331.jpg.edited\r\n",
      "cat.4566.jpg          dog.1167.jpg          dog.8541.jpg\r\n",
      "cat.4566.jpg.edited   dog.1167.jpg.edited   dog.8541.jpg.edited\r\n",
      "cat.4792.jpg          dog.11831.jpg         dog.8747.jpg\r\n",
      "cat.4792.jpg.edited   dog.11831.jpg.edited  dog.8747.jpg.edited\r\n",
      "cat.4801.jpg          dog.11845.jpg         dog.8814.jpg\r\n",
      "cat.4801.jpg.edited   dog.11845.jpg.edited  dog.8814.jpg.edited\r\n",
      "cat.4881.jpg          dog.11880.jpg         dog.892.jpg\r\n",
      "cat.4881.jpg.edited   dog.11880.jpg.edited  dog.892.jpg.edited\r\n",
      "cat.4990.jpg          dog.11902.jpg         dog.9122.jpg\r\n",
      "cat.4990.jpg.edited   dog.11902.jpg.edited  dog.9122.jpg.edited\r\n",
      "cat.506.jpg           dog.11942.jpg         dog.9159.jpg\r\n",
      "cat.506.jpg.edited    dog.11942.jpg.edited  dog.9159.jpg.edited\r\n",
      "cat.5309.jpg          dog.12027.jpg         dog.953.jpg\r\n",
      "cat.5309.jpg.edited   dog.12027.jpg.edited  dog.953.jpg.edited\r\n",
      "cat.541.jpg           dog.12260.jpg         dog.9581.jpg\r\n",
      "cat.541.jpg.edited    dog.12260.jpg.edited  dog.9581.jpg.edited\r\n",
      "cat.5445.jpg          dog.130.jpg           dog.9582.jpg\r\n",
      "cat.5445.jpg.edited   dog.130.jpg.edited    dog.9582.jpg.edited\r\n",
      "cat.5450.jpg          dog.1444.jpg          dog.9703.jpg\r\n",
      "cat.5450.jpg.edited   dog.1444.jpg.edited   dog.9703.jpg.edited\r\n",
      "cat.5628.jpg          dog.1656.jpg          dog.9819.jpg\r\n",
      "cat.5628.jpg.edited   dog.1656.jpg.edited   dog.9819.jpg.edited\r\n",
      "cat.5672.jpg          dog.1754.jpg\r\n",
      "cat.5672.jpg.edited   dog.1754.jpg.edited\r\n"
     ]
    }
   ],
   "source": [
    "%ls"
   ]
  },
  {
   "cell_type": "code",
   "execution_count": 20,
   "metadata": {},
   "outputs": [
    {
     "name": "stdout",
     "output_type": "stream",
     "text": [
      "/Users/nagasudheerravela/Desktop/catsdogs/data/redux/sample\n"
     ]
    }
   ],
   "source": [
    "%cd .."
   ]
  },
  {
   "cell_type": "code",
   "execution_count": 21,
   "metadata": {
    "collapsed": true
   },
   "outputs": [],
   "source": [
    "%mkdir train1"
   ]
  },
  {
   "cell_type": "code",
   "execution_count": 22,
   "metadata": {
    "collapsed": true
   },
   "outputs": [],
   "source": [
    "%cp train/*.edited train1/"
   ]
  },
  {
   "cell_type": "code",
   "execution_count": 23,
   "metadata": {},
   "outputs": [
    {
     "name": "stdout",
     "output_type": "stream",
     "text": [
      "/Users/nagasudheerravela/Desktop/catsdogs/data/redux/sample/train1\n"
     ]
    }
   ],
   "source": [
    "%cd train1"
   ]
  },
  {
   "cell_type": "code",
   "execution_count": 24,
   "metadata": {
    "collapsed": true
   },
   "outputs": [],
   "source": [
    "import matplotlib.image as mpimg\n",
    "train_set_x_orig = np.array([mpimg.imread(name) for name in os.listdir(os.getcwd())], dtype=np.uint8)"
   ]
  },
  {
   "cell_type": "code",
   "execution_count": null,
   "metadata": {
    "collapsed": true
   },
   "outputs": [],
   "source": [
    "#no use\n",
    "Output2"
   ]
  },
  {
   "cell_type": "code",
   "execution_count": 25,
   "metadata": {
    "collapsed": true
   },
   "outputs": [],
   "source": [
    "import glob\n",
    "filelist = glob.glob('*.edited')\n",
    "df = pd.DataFrame(filelist)\n",
    "Output1 = []\n",
    "Output2 = []\n",
    "for row in df[0]:\n",
    "    Output1.append(row[0])\n",
    "for i in Output1 :\n",
    "      if i == 'c' :\n",
    "            Output2.append(0)\n",
    "       \n",
    "      else :\n",
    "            Output2.append(1)\n",
    "     "
   ]
  },
  {
   "cell_type": "code",
   "execution_count": 26,
   "metadata": {},
   "outputs": [
    {
     "data": {
      "text/plain": [
       "200"
      ]
     },
     "execution_count": 26,
     "metadata": {},
     "output_type": "execute_result"
    }
   ],
   "source": [
    "len(Output2)"
   ]
  },
  {
   "cell_type": "code",
   "execution_count": 27,
   "metadata": {},
   "outputs": [
    {
     "name": "stdout",
     "output_type": "stream",
     "text": [
      "dog.2826.jpg.edited\n",
      "cat.3442.jpg.edited\n",
      "dog.3683.jpg.edited\n",
      "cat.385.jpg.edited\n",
      "cat.12103.jpg.edited\n",
      "dog.10576.jpg.edited\n",
      "dog.11275.jpg.edited\n",
      "dog.11845.jpg.edited\n",
      "dog.461.jpg.edited\n",
      "cat.8371.jpg.edited\n",
      "cat.4801.jpg.edited\n",
      "dog.8747.jpg.edited\n",
      "cat.3689.jpg.edited\n",
      "cat.5628.jpg.edited\n",
      "dog.9582.jpg.edited\n",
      "dog.1754.jpg.edited\n",
      "dog.11880.jpg.edited\n",
      "dog.4168.jpg.edited\n",
      "dog.2413.jpg.edited\n",
      "dog.4409.jpg.edited\n",
      "cat.6558.jpg.edited\n",
      "cat.9385.jpg.edited\n",
      "dog.4779.jpg.edited\n",
      "cat.861.jpg.edited\n",
      "cat.9724.jpg.edited\n",
      "dog.1099.jpg.edited\n",
      "cat.5450.jpg.edited\n",
      "dog.4692.jpg.edited\n",
      "cat.5929.jpg.edited\n",
      "cat.3933.jpg.edited\n",
      "cat.10880.jpg.edited\n",
      "cat.11519.jpg.edited\n",
      "cat.8571.jpg.edited\n",
      "cat.4044.jpg.edited\n",
      "dog.8541.jpg.edited\n",
      "dog.8128.jpg.edited\n",
      "dog.11431.jpg.edited\n",
      "cat.6974.jpg.edited\n",
      "cat.7922.jpg.edited\n",
      "cat.9174.jpg.edited\n",
      "cat.4256.jpg.edited\n",
      "cat.1249.jpg.edited\n",
      "cat.277.jpg.edited\n",
      "dog.10131.jpg.edited\n",
      "dog.10897.jpg.edited\n",
      "cat.3050.jpg.edited\n",
      "cat.2763.jpg.edited\n",
      "dog.10984.jpg.edited\n",
      "cat.6316.jpg.edited\n",
      "cat.10092.jpg.edited\n",
      "cat.4566.jpg.edited\n",
      "dog.5093.jpg.edited\n",
      "cat.353.jpg.edited\n",
      "cat.2502.jpg.edited\n",
      "dog.953.jpg.edited\n",
      "cat.5672.jpg.edited\n",
      "cat.11745.jpg.edited\n",
      "cat.1371.jpg.edited\n",
      "cat.9158.jpg.edited\n",
      "dog.8814.jpg.edited\n",
      "cat.10887.jpg.edited\n",
      "cat.2814.jpg.edited\n",
      "cat.11368.jpg.edited\n",
      "dog.11942.jpg.edited\n",
      "dog.7750.jpg.edited\n",
      "dog.4114.jpg.edited\n",
      "cat.9872.jpg.edited\n",
      "cat.7896.jpg.edited\n",
      "cat.4401.jpg.edited\n",
      "cat.7842.jpg.edited\n",
      "cat.10197.jpg.edited\n",
      "dog.10627.jpg.edited\n",
      "dog.3798.jpg.edited\n",
      "cat.6022.jpg.edited\n",
      "dog.1444.jpg.edited\n",
      "dog.1802.jpg.edited\n",
      "dog.11831.jpg.edited\n",
      "dog.3049.jpg.edited\n",
      "cat.11127.jpg.edited\n",
      "dog.3317.jpg.edited\n",
      "cat.1386.jpg.edited\n",
      "cat.4792.jpg.edited\n",
      "cat.506.jpg.edited\n",
      "dog.7108.jpg.edited\n",
      "dog.130.jpg.edited\n",
      "cat.12213.jpg.edited\n",
      "dog.1656.jpg.edited\n",
      "cat.1202.jpg.edited\n",
      "dog.4859.jpg.edited\n",
      "cat.2371.jpg.edited\n",
      "dog.5717.jpg.edited\n",
      "cat.9419.jpg.edited\n",
      "cat.11856.jpg.edited\n",
      "dog.1994.jpg.edited\n",
      "dog.7852.jpg.edited\n",
      "cat.7998.jpg.edited\n",
      "dog.4567.jpg.edited\n",
      "dog.3500.jpg.edited\n",
      "cat.6594.jpg.edited\n",
      "dog.6676.jpg.edited\n",
      "cat.26.jpg.edited\n",
      "dog.9159.jpg.edited\n",
      "dog.4634.jpg.edited\n",
      "cat.7995.jpg.edited\n",
      "dog.1999.jpg.edited\n",
      "cat.2445.jpg.edited\n",
      "cat.4990.jpg.edited\n",
      "cat.5309.jpg.edited\n",
      "cat.9441.jpg.edited\n",
      "cat.7507.jpg.edited\n",
      "cat.9281.jpg.edited\n",
      "cat.4048.jpg.edited\n",
      "cat.541.jpg.edited\n",
      "cat.3099.jpg.edited\n",
      "dog.10385.jpg.edited\n",
      "cat.2083.jpg.edited\n",
      "cat.6394.jpg.edited\n",
      "dog.302.jpg.edited\n",
      "cat.4881.jpg.edited\n",
      "dog.6859.jpg.edited\n",
      "dog.7838.jpg.edited\n",
      "cat.2536.jpg.edited\n",
      "dog.4153.jpg.edited\n",
      "cat.8801.jpg.edited\n",
      "dog.12027.jpg.edited\n",
      "cat.3497.jpg.edited\n",
      "cat.5445.jpg.edited\n",
      "dog.1167.jpg.edited\n",
      "dog.788.jpg.edited\n",
      "dog.5212.jpg.edited\n",
      "dog.10730.jpg.edited\n",
      "cat.3633.jpg.edited\n",
      "dog.10124.jpg.edited\n",
      "dog.9122.jpg.edited\n",
      "cat.9156.jpg.edited\n",
      "dog.9819.jpg.edited\n",
      "dog.8280.jpg.edited\n",
      "dog.11230.jpg.edited\n",
      "cat.89.jpg.edited\n",
      "cat.5721.jpg.edited\n",
      "dog.12260.jpg.edited\n",
      "dog.10086.jpg.edited\n",
      "cat.8038.jpg.edited\n",
      "cat.4319.jpg.edited\n",
      "cat.11278.jpg.edited\n",
      "cat.4164.jpg.edited\n",
      "cat.1464.jpg.edited\n",
      "cat.8304.jpg.edited\n",
      "dog.10833.jpg.edited\n",
      "dog.7283.jpg.edited\n",
      "cat.12369.jpg.edited\n",
      "cat.9091.jpg.edited\n",
      "cat.7892.jpg.edited\n",
      "cat.7134.jpg.edited\n",
      "cat.1726.jpg.edited\n",
      "dog.3468.jpg.edited\n",
      "dog.308.jpg.edited\n",
      "cat.10473.jpg.edited\n",
      "cat.324.jpg.edited\n",
      "cat.2089.jpg.edited\n",
      "dog.4718.jpg.edited\n",
      "dog.2494.jpg.edited\n",
      "dog.5515.jpg.edited\n",
      "dog.7791.jpg.edited\n",
      "cat.7550.jpg.edited\n",
      "dog.10198.jpg.edited\n",
      "cat.402.jpg.edited\n",
      "cat.2393.jpg.edited\n",
      "cat.7031.jpg.edited\n",
      "cat.11789.jpg.edited\n",
      "cat.1081.jpg.edited\n",
      "cat.5755.jpg.edited\n",
      "dog.3330.jpg.edited\n",
      "dog.11902.jpg.edited\n",
      "dog.7238.jpg.edited\n",
      "cat.11714.jpg.edited\n",
      "dog.892.jpg.edited\n",
      "cat.4505.jpg.edited\n",
      "dog.5527.jpg.edited\n",
      "cat.7562.jpg.edited\n",
      "dog.2515.jpg.edited\n",
      "dog.1903.jpg.edited\n",
      "dog.5024.jpg.edited\n",
      "dog.4072.jpg.edited\n",
      "cat.2261.jpg.edited\n",
      "cat.6228.jpg.edited\n",
      "dog.8331.jpg.edited\n",
      "dog.4754.jpg.edited\n",
      "cat.2877.jpg.edited\n",
      "dog.1806.jpg.edited\n",
      "dog.4188.jpg.edited\n",
      "dog.6146.jpg.edited\n",
      "cat.12019.jpg.edited\n",
      "dog.9703.jpg.edited\n",
      "dog.6856.jpg.edited\n",
      "dog.10005.jpg.edited\n",
      "cat.5810.jpg.edited\n",
      "dog.3033.jpg.edited\n",
      "dog.4850.jpg.edited\n",
      "dog.9581.jpg.edited\n"
     ]
    }
   ],
   "source": [
    " for name in os.listdir(os.getcwd()) :\n",
    "        print(name)"
   ]
  },
  {
   "cell_type": "code",
   "execution_count": 28,
   "metadata": {
    "collapsed": true
   },
   "outputs": [],
   "source": [
    "train_set_x_flatten = train_set_x_orig.reshape(train_set_x_orig.shape[0],-1).T\n"
   ]
  },
  {
   "cell_type": "code",
   "execution_count": 29,
   "metadata": {},
   "outputs": [
    {
     "name": "stdout",
     "output_type": "stream",
     "text": [
      "train_set_x_flatten shape: (12288, 200)\n",
      "train_set_y shape: (200, 1)\n"
     ]
    }
   ],
   "source": [
    "train_set_y = np.array(Output2).reshape(len(Output2),1)\n",
    "print (\"train_set_x_flatten shape: \" + str(train_set_x_flatten.shape))\n",
    "print (\"train_set_y shape: \" + str(train_set_y.shape))\n"
   ]
  },
  {
   "cell_type": "code",
   "execution_count": 30,
   "metadata": {
    "collapsed": true
   },
   "outputs": [],
   "source": [
    "train_set_y = train_set_y.reshape(train_set_y.shape[0],-1).T\n"
   ]
  },
  {
   "cell_type": "code",
   "execution_count": 31,
   "metadata": {},
   "outputs": [
    {
     "name": "stdout",
     "output_type": "stream",
     "text": [
      "train_set_y shape: (1, 200)\n"
     ]
    }
   ],
   "source": [
    "print (\"train_set_y shape: \" + str(train_set_y.shape))\n"
   ]
  },
  {
   "cell_type": "code",
   "execution_count": 32,
   "metadata": {
    "collapsed": true
   },
   "outputs": [],
   "source": [
    "train_set_x = train_set_x_flatten/255."
   ]
  },
  {
   "cell_type": "markdown",
   "metadata": {},
   "source": [
    "### Making test_x and test_y"
   ]
  },
  {
   "cell_type": "code",
   "execution_count": 33,
   "metadata": {},
   "outputs": [
    {
     "name": "stdout",
     "output_type": "stream",
     "text": [
      "/Users/nagasudheerravela/Desktop/catsdogs/data/redux/sample/valid\n"
     ]
    }
   ],
   "source": [
    "%pwd\n",
    "%cd ../valid"
   ]
  },
  {
   "cell_type": "code",
   "execution_count": 34,
   "metadata": {},
   "outputs": [
    {
     "name": "stdout",
     "output_type": "stream",
     "text": [
      "cat.10404.jpg  cat.5143.jpg   cat.7684.jpg   dog.1693.jpg   dog.5553.jpg\r\n",
      "cat.11149.jpg  cat.5220.jpg   cat.9701.jpg   dog.1796.jpg   dog.6045.jpg\r\n",
      "cat.11273.jpg  cat.5352.jpg   cat.9849.jpg   dog.1945.jpg   dog.6190.jpg\r\n",
      "cat.11878.jpg  cat.552.jpg    dog.10359.jpg  dog.2641.jpg   dog.6450.jpg\r\n",
      "cat.2457.jpg   cat.5586.jpg   dog.10639.jpg  dog.3485.jpg   dog.6594.jpg\r\n",
      "cat.2488.jpg   cat.5636.jpg   dog.10640.jpg  dog.3642.jpg   dog.6650.jpg\r\n",
      "cat.3002.jpg   cat.5646.jpg   dog.12119.jpg  dog.5070.jpg   dog.7449.jpg\r\n",
      "cat.3258.jpg   cat.6933.jpg   dog.12213.jpg  dog.5316.jpg   dog.7528.jpg\r\n",
      "cat.3815.jpg   cat.7192.jpg   dog.1285.jpg   dog.5395.jpg   dog.8946.jpg\r\n",
      "cat.4774.jpg   cat.7330.jpg   dog.1584.jpg   dog.5407.jpg   dog.9355.jpg\r\n"
     ]
    }
   ],
   "source": [
    "%ls"
   ]
  },
  {
   "cell_type": "code",
   "execution_count": 35,
   "metadata": {
    "collapsed": true
   },
   "outputs": [],
   "source": [
    "from PIL import Image\n",
    "import glob, os\n",
    "from resizeimage import resizeimage\n",
    "\n",
    "for infile in glob.glob(\"*.jpg\"):\n",
    "      with open(infile, 'r+b') as f:\n",
    "        with Image.open(f) as image:\n",
    "             cover = resizeimage.resize_cover(image, [64, 64])\n",
    "             cover.save(infile+'.edited', image.format)\n",
    "            \n"
   ]
  },
  {
   "cell_type": "code",
   "execution_count": 36,
   "metadata": {},
   "outputs": [
    {
     "data": {
      "text/plain": [
       "'/Users/nagasudheerravela/Desktop/catsdogs/data/redux/sample/valid'"
      ]
     },
     "execution_count": 36,
     "metadata": {},
     "output_type": "execute_result"
    }
   ],
   "source": [
    "%pwd"
   ]
  },
  {
   "cell_type": "code",
   "execution_count": 37,
   "metadata": {},
   "outputs": [
    {
     "name": "stdout",
     "output_type": "stream",
     "text": [
      "/Users/nagasudheerravela/Desktop/catsdogs/data/redux/sample\n",
      "/Users/nagasudheerravela/Desktop/catsdogs/data/redux/sample/valid1\n"
     ]
    }
   ],
   "source": [
    "%cd ..\n",
    "%mkdir valid1\n",
    "%cp valid/*.edited valid1/\n",
    "%cd valid1\n"
   ]
  },
  {
   "cell_type": "code",
   "execution_count": 38,
   "metadata": {},
   "outputs": [
    {
     "name": "stdout",
     "output_type": "stream",
     "text": [
      "/Users/nagasudheerravela/Desktop/catsdogs/data/redux/sample/valid1\n"
     ]
    },
    {
     "data": {
      "text/plain": [
       "'/Users/nagasudheerravela/Desktop/catsdogs/data/redux/sample/valid1'"
      ]
     },
     "execution_count": 38,
     "metadata": {},
     "output_type": "execute_result"
    }
   ],
   "source": [
    "%cd ../valid1\n",
    "%pwd"
   ]
  },
  {
   "cell_type": "code",
   "execution_count": 39,
   "metadata": {},
   "outputs": [
    {
     "name": "stdout",
     "output_type": "stream",
     "text": [
      "test_set_x_flatten shape: (12288, 50)\n",
      "test_set_y shape: (1, 50)\n"
     ]
    }
   ],
   "source": [
    "import matplotlib.image as mpimg\n",
    "test_set_x_orig = np.array([mpimg.imread(name) for name in os.listdir(os.getcwd())], dtype=np.uint8)\n",
    "import glob\n",
    "filelist = glob.glob('*.edited')\n",
    "df = pd.DataFrame(filelist)\n",
    "Output1 = []\n",
    "Output2 = []\n",
    "for row in df[0]:\n",
    "    Output1.append(row[0])\n",
    "for i in Output1 :\n",
    "      if i == 'c' :\n",
    "            Output2.append(0)\n",
    "       \n",
    "      else :\n",
    "            Output2.append(1)\n",
    "test_set_x_flatten = test_set_x_orig.reshape(test_set_x_orig.shape[0],-1).T\n",
    "test_set_y = np.array(Output2).reshape(len(Output2),1)\n",
    "test_set_y = test_set_y.reshape(test_set_y.shape[0],-1).T\n",
    "\n",
    "print (\"test_set_x_flatten shape: \" + str(test_set_x_flatten.shape))\n",
    "print (\"test_set_y shape: \" + str(test_set_y.shape))\n",
    "test_set_x = test_set_x_flatten/255."
   ]
  },
  {
   "cell_type": "code",
   "execution_count": null,
   "metadata": {
    "collapsed": true
   },
   "outputs": [],
   "source": []
  },
  {
   "cell_type": "markdown",
   "metadata": {},
   "source": [
    "## 3 - General Architecture of the learning algorithm"
   ]
  },
  {
   "cell_type": "code",
   "execution_count": null,
   "metadata": {
    "collapsed": true
   },
   "outputs": [],
   "source": [
    "# GRADED FUNCTION: sigmoid\n",
    "\n",
    "def sigmoid(z):\n",
    "    \"\"\"\n",
    "    Compute the sigmoid of z\n",
    "\n",
    "    Arguments:\n",
    "    z -- A scalar or numpy array of any size.\n",
    "\n",
    "    Return:\n",
    "    s -- sigmoid(z)\n",
    "    \"\"\"\n",
    "\n",
    "    ### START CODE HERE ### (≈ 1 line of code)\n",
    "    s = 1 /(1 + np.exp(-z))\n",
    "    ### END CODE HERE ###\n",
    "    \n",
    "    return s"
   ]
  },
  {
   "cell_type": "code",
   "execution_count": null,
   "metadata": {
    "collapsed": true
   },
   "outputs": [],
   "source": [
    "def initialize_with_zeros(dim):\n",
    "    \"\"\"\n",
    "    This function creates a vector of zeros of shape (dim, 1) for w and initializes b to 0.\n",
    "    \n",
    "    Argument:\n",
    "    dim -- size of the w vector we want (or number of parameters in this case)\n",
    "    \n",
    "    Returns:\n",
    "    w -- initialized vector of shape (dim, 1)\n",
    "    b -- initialized scalar (corresponds to the bias)\n",
    "    \"\"\"\n",
    "    \n",
    "    ### START CODE HERE ### (≈ 1 line of code)\n",
    "    w = np.zeros((dim , 1))\n",
    "    b = 0\n",
    "    ### END CODE HERE ###\n",
    "\n",
    "    assert(w.shape == (dim, 1))\n",
    "    assert(isinstance(b, float) or isinstance(b, int))\n",
    "    \n",
    "    return w, b"
   ]
  },
  {
   "cell_type": "code",
   "execution_count": null,
   "metadata": {
    "collapsed": true
   },
   "outputs": [],
   "source": [
    "# GRADED FUNCTION: propagate\n",
    "\n",
    "def propagate(w, b, X, Y):\n",
    "    \"\"\"\n",
    "    Implement the cost function and its gradient for the propagation explained above\n",
    "\n",
    "    Arguments:\n",
    "    w -- weights, a numpy array of size (num_px * num_px * 3, 1)\n",
    "    b -- bias, a scalar\n",
    "    X -- data of size (num_px * num_px * 3, number of examples)\n",
    "    Y -- true \"label\" vector (containing 0 if non-cat, 1 if cat) of size (1, number of examples)\n",
    "\n",
    "    Return:\n",
    "    cost -- negative log-likelihood cost for logistic regression\n",
    "    dw -- gradient of the loss with respect to w, thus same shape as w\n",
    "    db -- gradient of the loss with respect to b, thus same shape as b\n",
    "    \n",
    "    Tips:\n",
    "    - Write your code step by step for the propagation. np.log(), np.dot()\n",
    "    \"\"\"\n",
    "    \n",
    "    m = X.shape[1]\n",
    "    \n",
    "    # FORWARD PROPAGATION (FROM X TO COST)\n",
    "    ### START CODE HERE ### (≈ 2 lines of code)\n",
    "    A = sigmoid(np.dot(np.transpose(w),X)+b)\n",
    "    # compute activation\n",
    "    \n",
    "    cost = cost = -1/m * np.sum(Y * np.log(A) + (1-Y) * (np.log(1-A)))                         # compute cost\n",
    "    \n",
    "    ### END CODE HERE ###\n",
    "    \n",
    "    # BACKWARD PROPAGATION (TO FIND GRAD)\n",
    "    ### START CODE HERE ### (≈ 2 lines of code)\n",
    "    dw = (1/m) * np.dot(X,np.transpose(A-Y))\n",
    "    db = (1/m) * np.sum(A-Y)\n",
    "    ### END CODE HERE ###\n",
    "\n",
    "    assert(dw.shape == w.shape)\n",
    "    assert(db.dtype == float)\n",
    "    cost = np.squeeze(cost)\n",
    "    assert(cost.shape == ())\n",
    "    \n",
    "    grads = {\"dw\": dw,\n",
    "             \"db\": db}\n",
    "    \n",
    "    return grads, cost\n",
    "    \n",
    "    "
   ]
  },
  {
   "cell_type": "code",
   "execution_count": null,
   "metadata": {
    "collapsed": true
   },
   "outputs": [],
   "source": [
    "# GRADED FUNCTION: optimize\n",
    "\n",
    "def optimize(w, b, X, Y, num_iterations, learning_rate, print_cost = False):\n",
    "    \"\"\"\n",
    "    This function optimizes w and b by running a gradient descent algorithm\n",
    "    \n",
    "    Arguments:\n",
    "    w -- weights, a numpy array of size (num_px * num_px * 3, 1)\n",
    "    b -- bias, a scalar\n",
    "    X -- data of shape (num_px * num_px * 3, number of examples)\n",
    "    Y -- true \"label\" vector (containing 0 if non-cat, 1 if cat), of shape (1, number of examples)\n",
    "    num_iterations -- number of iterations of the optimization loop\n",
    "    learning_rate -- learning rate of the gradient descent update rule\n",
    "    print_cost -- True to print the loss every 100 steps\n",
    "    \n",
    "    Returns:\n",
    "    params -- dictionary containing the weights w and bias b\n",
    "    grads -- dictionary containing the gradients of the weights and bias with respect to the cost function\n",
    "    costs -- list of all the costs computed during the optimization, this will be used to plot the learning curve.\n",
    "    \n",
    "    Tips:\n",
    "    You basically need to write down two steps and iterate through them:\n",
    "        1) Calculate the cost and the gradient for the current parameters. Use propagate().\n",
    "        2) Update the parameters using gradient descent rule for w and b.\n",
    "    \"\"\"\n",
    "    \n",
    "    costs = []\n",
    "    \n",
    "    for i in range(num_iterations):\n",
    "        \n",
    "        \n",
    "        # Cost and gradient calculation (≈ 1-4 lines of code)\n",
    "        ### START CODE HERE ### \n",
    "        grads, cost = propagate(w, b, X, Y)\n",
    "        ### END CODE HERE ###\n",
    "        \n",
    "        # Retrieve derivatives from grads\n",
    "        dw = grads[\"dw\"]\n",
    "        db = grads[\"db\"]\n",
    "        \n",
    "        # update rule (≈ 2 lines of code)\n",
    "        ### START CODE HERE ###\n",
    "        w = w - (learning_rate * dw)\n",
    "        b = b - (learning_rate * db)\n",
    "        ### END CODE HERE ###\n",
    "        \n",
    "        # Record the costs\n",
    "        if i % 100 == 0:\n",
    "            costs.append(cost)\n",
    "        \n",
    "        # Print the cost every 100 training examples\n",
    "        if print_cost and i % 100 == 0:\n",
    "            print (\"Cost after iteration %i: %f\" %(i, cost))\n",
    "    \n",
    "    params = {\"w\": w,\n",
    "              \"b\": b}\n",
    "    \n",
    "    grads = {\"dw\": dw,\n",
    "             \"db\": db}\n",
    "    \n",
    "    return params, grads, costs"
   ]
  },
  {
   "cell_type": "code",
   "execution_count": null,
   "metadata": {
    "collapsed": true
   },
   "outputs": [],
   "source": [
    "# GRADED FUNCTION: predict\n",
    "\n",
    "def predict(w, b, X):\n",
    "    '''\n",
    "    Predict whether the label is 0 or 1 using learned logistic regression parameters (w, b)\n",
    "    \n",
    "    Arguments:\n",
    "    w -- weights, a numpy array of size (num_px * num_px * 3, 1)\n",
    "    b -- bias, a scalar\n",
    "    X -- data of size (num_px * num_px * 3, number of examples)\n",
    "    \n",
    "    Returns:\n",
    "    Y_prediction -- a numpy array (vector) containing all predictions (0/1) for the examples in X\n",
    "    '''\n",
    "    \n",
    "    m = X.shape[1]\n",
    "    Y_prediction = np.zeros((1,m))\n",
    "    w = w.reshape(X.shape[0], 1)\n",
    "    \n",
    "    # Compute vector \"A\" predicting the probabilities of a cat being present in the picture\n",
    "    ### START CODE HERE ### (≈ 1 line of code)\n",
    "    A = sigmoid(np.dot(np.transpose(w),X) + b)\n",
    "    \n",
    "    ### END CODE HERE ###\n",
    "    for i in range(A.shape[1]):\n",
    "        \n",
    "        # Convert probabilities A[0,i] to actual predictions p[0,i]\n",
    "        ### START CODE HERE ### (≈ 4 lines of code)\n",
    "        if A[0][i] <= 0.5 :\n",
    "          Y_prediction[0][i] = 0\n",
    "        else :\n",
    "          Y_prediction[0][i] = 1\n",
    "        ### END CODE HERE ###\n",
    "    \n",
    "    assert(Y_prediction.shape == (1, m))\n",
    "   \n",
    "    return Y_prediction"
   ]
  },
  {
   "cell_type": "code",
   "execution_count": null,
   "metadata": {
    "collapsed": true
   },
   "outputs": [],
   "source": []
  },
  {
   "cell_type": "code",
   "execution_count": null,
   "metadata": {
    "collapsed": true
   },
   "outputs": [],
   "source": [
    "# GRADED FUNCTION: model\n",
    "\n",
    "def model(X_train, Y_train, X_test, Y_test, num_iterations = 2000, learning_rate = 0.5, print_cost = False):\n",
    "    \"\"\"\n",
    "    Builds the logistic regression model by calling the function you've implemented previously\n",
    "    \n",
    "    Arguments:\n",
    "    X_train -- training set represented by a numpy array of shape (num_px * num_px * 3, m_train)\n",
    "    Y_train -- training labels represented by a numpy array (vector) of shape (1, m_train)\n",
    "    X_test -- test set represented by a numpy array of shape (num_px * num_px * 3, m_test)\n",
    "    Y_test -- test labels represented by a numpy array (vector) of shape (1, m_test)\n",
    "    num_iterations -- hyperparameter representing the number of iterations to optimize the parameters\n",
    "    learning_rate -- hyperparameter representing the learning rate used in the update rule of optimize()\n",
    "    print_cost -- Set to true to print the cost every 100 iterations\n",
    "    \n",
    "    Returns:\n",
    "    d -- dictionary containing information about the model.\n",
    "    \"\"\"\n",
    "    \n",
    "    ### START CODE HERE ###\n",
    "    \n",
    "    # initialize parameters with zeros (≈ 1 line of code)\n",
    "    w, b = initialize_with_zeros(X_train.shape[0])\n",
    "                    \n",
    "\n",
    "    # Gradient descent (≈ 1 line of code)\n",
    "    parameters, grads, costs = optimize(w, b, X_train, Y_train, num_iterations, learning_rate,print_cost)\n",
    "    \n",
    "    # Retrieve parameters w and b from dictionary \"parameters\"\n",
    "    w = parameters[\"w\"]\n",
    "    b = parameters[\"b\"]\n",
    "    \n",
    "    # Predict test/train set examples (≈ 2 lines of code)\n",
    "    Y_prediction_test = predict(w, b,X_test )\n",
    "    Y_prediction_train = predict(w, b, X_train)\n",
    "\n",
    "    ### END CODE HERE ###\n",
    "\n",
    "    # Print train/test Errors\n",
    "    print(\"train accuracy: {} %\".format(100 - np.mean(np.abs(Y_prediction_train - Y_train)) * 100))\n",
    "    print(\"test accuracy: {} %\".format(100 - np.mean(np.abs(Y_prediction_test - Y_test)) * 100))\n",
    "\n",
    "    \n",
    "    d = {\"costs\": costs,\n",
    "         \"Y_prediction_test\": Y_prediction_test, \n",
    "         \"Y_prediction_train\" : Y_prediction_train, \n",
    "         \"w\" : w, \n",
    "         \"b\" : b,\n",
    "         \"learning_rate\" : learning_rate,\n",
    "         \"num_iterations\": num_iterations}\n",
    "    \n",
    "    return d"
   ]
  },
  {
   "cell_type": "code",
   "execution_count": null,
   "metadata": {
    "collapsed": true
   },
   "outputs": [],
   "source": [
    "d = model(train_set_x, train_set_y, test_set_x, test_set_y, num_iterations = 2000, learning_rate = 0.005, print_cost = True)"
   ]
  },
  {
   "cell_type": "markdown",
   "metadata": {
    "collapsed": true
   },
   "source": [
    "## 4 - Two-layer neural network ( Project Deep Neural Network - Application v3)\n",
    "Question: Use the helper functions you have implemented in the previous assignment to build a 2-layer neural network with the following structure: LINEAR -> RELU -> LINEAR -> SIGMOID. \n"
   ]
  },
  {
   "cell_type": "code",
   "execution_count": null,
   "metadata": {
    "collapsed": true
   },
   "outputs": [],
   "source": [
    "# GRADED FUNCTION: initialize_parameters\n",
    "\n",
    "def initialize_parameters(n_x, n_h, n_y):\n",
    "    \"\"\"\n",
    "    Argument:\n",
    "    n_x -- size of the input layer\n",
    "    n_h -- size of the hidden layer\n",
    "    n_y -- size of the output layer\n",
    "    \n",
    "    Returns:\n",
    "    parameters -- python dictionary containing your parameters:\n",
    "                    W1 -- weight matrix of shape (n_h, n_x)\n",
    "                    b1 -- bias vector of shape (n_h, 1)\n",
    "                    W2 -- weight matrix of shape (n_y, n_h)\n",
    "                    b2 -- bias vector of shape (n_y, 1)\n",
    "    \"\"\"\n",
    "    \n",
    "    np.random.seed(1)\n",
    "    \n",
    "    ### START CODE HERE ### (≈ 4 lines of code)\n",
    "    W1 = np.random.randn(n_h,n_x)*0.01\n",
    "    b1 = np.zeros((n_h,1))\n",
    "    W2 = np.random.randn(n_y,n_h)*0.01\n",
    "    b2 = np.zeros((n_y,1))\n",
    "    ### END CODE HERE ###\n",
    "    \n",
    "    assert(W1.shape == (n_h, n_x))\n",
    "    assert(b1.shape == (n_h, 1))\n",
    "    assert(W2.shape == (n_y, n_h))\n",
    "    assert(b2.shape == (n_y, 1))\n",
    "    \n",
    "    parameters = {\"W1\": W1,\n",
    "                  \"b1\": b1,\n",
    "                  \"W2\": W2,\n",
    "                  \"b2\": b2}\n",
    "    \n",
    "    return parameters    "
   ]
  },
  {
   "cell_type": "code",
   "execution_count": null,
   "metadata": {
    "collapsed": true
   },
   "outputs": [],
   "source": [
    "def relu(Z):\n",
    "    \"\"\"\n",
    "    Implement the RELU function.\n",
    "\n",
    "    Arguments:\n",
    "    Z -- Output of the linear layer, of any shape\n",
    "\n",
    "    Returns:\n",
    "    A -- Post-activation parameter, of the same shape as Z\n",
    "    cache -- a python dictionary containing \"A\" ; stored for computing the backward pass efficiently\n",
    "    \"\"\"\n",
    "    \n",
    "    A = np.maximum(0,Z)\n",
    "    \n",
    "    assert(A.shape == Z.shape)\n",
    "    \n",
    "    cache = Z \n",
    "    return A, cache"
   ]
  },
  {
   "cell_type": "code",
   "execution_count": null,
   "metadata": {
    "collapsed": true
   },
   "outputs": [],
   "source": [
    "def sigmoid(Z):\n",
    "    \"\"\"\n",
    "    Implements the sigmoid activation in numpy\n",
    "    \n",
    "    Arguments:\n",
    "    Z -- numpy array of any shape\n",
    "    \n",
    "    Returns:\n",
    "    A -- output of sigmoid(z), same shape as Z\n",
    "    cache -- returns Z as well, useful during backpropagation\n",
    "    \"\"\"\n",
    "    \n",
    "    A = 1/(1+np.exp(-Z))\n",
    "    cache = Z\n",
    "    \n",
    "    return A, cache"
   ]
  },
  {
   "cell_type": "code",
   "execution_count": null,
   "metadata": {
    "collapsed": true
   },
   "outputs": [],
   "source": [
    "# GRADED FUNCTION: linear_forward\n",
    "\n",
    "def linear_forward(A, W, b):\n",
    "    \"\"\"\n",
    "    Implement the linear part of a layer's forward propagation.\n",
    "\n",
    "    Arguments:\n",
    "    A -- activations from previous layer (or input data): (size of previous layer, number of examples)\n",
    "    W -- weights matrix: numpy array of shape (size of current layer, size of previous layer)\n",
    "    b -- bias vector, numpy array of shape (size of the current layer, 1)\n",
    "\n",
    "    Returns:\n",
    "    Z -- the input of the activation function, also called pre-activation parameter \n",
    "    cache -- a python dictionary containing \"A\", \"W\" and \"b\" ; stored for computing the backward pass efficiently\n",
    "    \"\"\"\n",
    "    \n",
    "    ### START CODE HERE ### (≈ 1 line of code)\n",
    "    Z = np.dot(W,A)+b\n",
    "    ### END CODE HERE ###\n",
    "    \n",
    "    assert(Z.shape == (W.shape[0], A.shape[1]))\n",
    "    cache = (A, W, b)\n",
    "    \n",
    "    return Z, cache"
   ]
  },
  {
   "cell_type": "code",
   "execution_count": null,
   "metadata": {
    "collapsed": true
   },
   "outputs": [],
   "source": [
    "# GRADED FUNCTION: linear_activation_forward\n",
    "\n",
    "def linear_activation_forward(A_prev, W, b, activation):\n",
    "    \"\"\"\n",
    "    Implement the forward propagation for the LINEAR->ACTIVATION layer\n",
    "\n",
    "    Arguments:\n",
    "    A_prev -- activations from previous layer (or input data): (size of previous layer, number of examples)\n",
    "    W -- weights matrix: numpy array of shape (size of current layer, size of previous layer)\n",
    "    b -- bias vector, numpy array of shape (size of the current layer, 1)\n",
    "    activation -- the activation to be used in this layer, stored as a text string: \"sigmoid\" or \"relu\"\n",
    "\n",
    "    Returns:\n",
    "    A -- the output of the activation function, also called the post-activation value \n",
    "    cache -- a python dictionary containing \"linear_cache\" and \"activation_cache\";\n",
    "             stored for computing the backward pass efficiently\n",
    "    \"\"\"\n",
    "    \n",
    "    if activation == \"sigmoid\":\n",
    "        # Inputs: \"A_prev, W, b\". Outputs: \"A, activation_cache\".\n",
    "        ### START CODE HERE ### (≈ 2 lines of code)\n",
    "        Z, linear_cache = linear_forward(A_prev, W, b)\n",
    "        A, activation_cache = sigmoid(Z)\n",
    "        ### END CODE HERE ###\n",
    "    \n",
    "    elif activation == \"relu\":\n",
    "        # Inputs: \"A_prev, W, b\". Outputs: \"A, activation_cache\".\n",
    "        ### START CODE HERE ### (≈ 2 lines of code)\n",
    "        Z, linear_cache = linear_forward(A_prev, W, b)\n",
    "        A, activation_cache = relu(Z) \n",
    "        ### END CODE HERE ###\n",
    "    \n",
    "    assert (A.shape == (W.shape[0], A_prev.shape[1]))\n",
    "    cache = (linear_cache, activation_cache)\n",
    "\n",
    "    return A, cache"
   ]
  },
  {
   "cell_type": "code",
   "execution_count": null,
   "metadata": {
    "collapsed": true
   },
   "outputs": [],
   "source": [
    "# GRADED FUNCTION: compute_cost\n",
    "\n",
    "def compute_cost(AL, Y):\n",
    "    \"\"\"\n",
    "    Implement the cost function defined by equation (7).\n",
    "\n",
    "    Arguments:\n",
    "    AL -- probability vector corresponding to your label predictions, shape (1, number of examples)\n",
    "    Y -- true \"label\" vector (for example: containing 0 if non-cat, 1 if cat), shape (1, number of examples)\n",
    "\n",
    "    Returns:\n",
    "    cost -- cross-entropy cost\n",
    "    \"\"\"\n",
    "    \n",
    "    m = Y.shape[1]\n",
    "\n",
    "    # Compute loss from aL and y.\n",
    "    ### START CODE HERE ### (≈ 1 lines of code)\n",
    "    cost = -1/m*np.sum(np.log(AL)*Y+np.log(1-AL)*(1-Y))\n",
    "    ### END CODE HERE ###\n",
    "    \n",
    "    cost = np.squeeze(cost)      # To make sure your cost's shape is what we expect (e.g. this turns [[17]] into 17).\n",
    "    assert(cost.shape == ())\n",
    "    \n",
    "    return cost"
   ]
  },
  {
   "cell_type": "code",
   "execution_count": null,
   "metadata": {
    "collapsed": true
   },
   "outputs": [],
   "source": [
    "def linear_backward(dZ, cache):\n",
    "    \"\"\"\n",
    "    Implement the linear portion of backward propagation for a single layer (layer l)\n",
    "\n",
    "    Arguments:\n",
    "    dZ -- Gradient of the cost with respect to the linear output (of current layer l)\n",
    "    cache -- tuple of values (A_prev, W, b) coming from the forward propagation in the current layer\n",
    "\n",
    "    Returns:\n",
    "    dA_prev -- Gradient of the cost with respect to the activation (of the previous layer l-1), same shape as A_prev\n",
    "    dW -- Gradient of the cost with respect to W (current layer l), same shape as W\n",
    "    db -- Gradient of the cost with respect to b (current layer l), same shape as b\n",
    "    \"\"\"\n",
    "    A_prev, W, b = cache\n",
    "    m = A_prev.shape[1]\n",
    "\n",
    "    ### START CODE HERE ### (≈ 3 lines of code)\n",
    "    dW = (1/m) * np.dot(dZ,A_prev.T)\n",
    "    db = (1/m) * np.sum(dZ,axis=1,keepdims=True)\n",
    "    dA_prev = np.dot(W.T,dZ)\n",
    "    ### END CODE HERE ###\n",
    "    \n",
    "    assert (dA_prev.shape == A_prev.shape)\n",
    "    assert (dW.shape == W.shape)\n",
    "    assert (db.shape == b.shape)\n",
    "    \n",
    "    return dA_prev, dW, db"
   ]
  },
  {
   "cell_type": "code",
   "execution_count": null,
   "metadata": {
    "collapsed": true
   },
   "outputs": [],
   "source": [
    "def sigmoid_backward(dA, cache):\n",
    "    \"\"\"\n",
    "    Implement the backward propagation for a single SIGMOID unit.\n",
    "\n",
    "    Arguments:\n",
    "    dA -- post-activation gradient, of any shape\n",
    "    cache -- 'Z' where we store for computing backward propagation efficiently\n",
    "\n",
    "    Returns:\n",
    "    dZ -- Gradient of the cost with respect to Z\n",
    "    \"\"\"\n",
    "    \n",
    "    Z = cache\n",
    "    \n",
    "    s = 1/(1+np.exp(-Z))\n",
    "    dZ = dA * s * (1-s)\n",
    "    \n",
    "    assert (dZ.shape == Z.shape)\n",
    "    \n",
    "    return dZ"
   ]
  },
  {
   "cell_type": "code",
   "execution_count": null,
   "metadata": {
    "collapsed": true
   },
   "outputs": [],
   "source": [
    "def relu_backward(dA, cache):\n",
    "    \"\"\"\n",
    "    Implement the backward propagation for a single RELU unit.\n",
    "\n",
    "    Arguments:\n",
    "    dA -- post-activation gradient, of any shape\n",
    "    cache -- 'Z' where we store for computing backward propagation efficiently\n",
    "\n",
    "    Returns:\n",
    "    dZ -- Gradient of the cost with respect to Z\n",
    "    \"\"\"\n",
    "    \n",
    "    Z = cache\n",
    "    dZ = np.array(dA, copy=True) # just converting dz to a correct object.\n",
    "    \n",
    "    # When z <= 0, you should set dz to 0 as well. \n",
    "    dZ[Z <= 0] = 0\n",
    "    \n",
    "    assert (dZ.shape == Z.shape)\n",
    "    \n",
    "    return dZ"
   ]
  },
  {
   "cell_type": "code",
   "execution_count": null,
   "metadata": {
    "collapsed": true
   },
   "outputs": [],
   "source": [
    "# GRADED FUNCTION: linear_activation_backward\n",
    "\n",
    "def linear_activation_backward(dA, cache, activation):\n",
    "    \"\"\"\n",
    "    Implement the backward propagation for the LINEAR->ACTIVATION layer.\n",
    "    \n",
    "    Arguments:\n",
    "    dA -- post-activation gradient for current layer l \n",
    "    cache -- tuple of values (linear_cache, activation_cache) we store for computing backward propagation efficiently\n",
    "    activation -- the activation to be used in this layer, stored as a text string: \"sigmoid\" or \"relu\"\n",
    "    \n",
    "    Returns:\n",
    "    dA_prev -- Gradient of the cost with respect to the activation (of the previous layer l-1), same shape as A_prev\n",
    "    dW -- Gradient of the cost with respect to W (current layer l), same shape as W\n",
    "    db -- Gradient of the cost with respect to b (current layer l), same shape as b\n",
    "    \"\"\"\n",
    "    linear_cache, activation_cache = cache\n",
    "    \n",
    "    if activation == \"relu\":\n",
    "        ### START CODE HERE ### (≈ 2 lines of code)\n",
    "        dZ = relu_backward(dA, activation_cache)\n",
    "        dA_prev, dW, db = linear_backward(dZ, linear_cache)\n",
    "        ### END CODE HERE ###\n",
    "        \n",
    "    elif activation == \"sigmoid\":\n",
    "        ### START CODE HERE ### (≈ 2 lines of code)\n",
    "        dZ = sigmoid_backward(dA, activation_cache)\n",
    "        dA_prev, dW, db = linear_backward(dZ, linear_cache)\n",
    "        ### END CODE HERE ###\n",
    "    \n",
    "    return dA_prev, dW, db"
   ]
  },
  {
   "cell_type": "code",
   "execution_count": null,
   "metadata": {
    "collapsed": true
   },
   "outputs": [],
   "source": [
    "# GRADED FUNCTION: update_parameters\n",
    "\n",
    "def update_parameters(parameters, grads, learning_rate):\n",
    "    \"\"\"\n",
    "    Update parameters using gradient descent\n",
    "    \n",
    "    Arguments:\n",
    "    parameters -- python dictionary containing your parameters \n",
    "    grads -- python dictionary containing your gradients, output of L_model_backward\n",
    "    \n",
    "    Returns:\n",
    "    parameters -- python dictionary containing your updated parameters \n",
    "                  parameters[\"W\" + str(l)] = ... \n",
    "                  parameters[\"b\" + str(l)] = ...\n",
    "    \"\"\"\n",
    "    \n",
    "    L = len(parameters) // 2 # number of layers in the neural network\n",
    "\n",
    "    # Update rule for each parameter. Use a for loop.\n",
    "    ### START CODE HERE ### (≈ 3 lines of code)\n",
    "\n",
    "    ### END CODE HERE ###\n",
    "    return parameters"
   ]
  },
  {
   "cell_type": "code",
   "execution_count": null,
   "metadata": {
    "collapsed": true
   },
   "outputs": [],
   "source": []
  },
  {
   "cell_type": "code",
   "execution_count": null,
   "metadata": {
    "collapsed": true
   },
   "outputs": [],
   "source": [
    "# GRADED FUNCTION: two_layer_model\n",
    "\n",
    "def two_layer_model(X, Y, layers_dims, learning_rate = 0.001, num_iterations = 3000, print_cost=False):\n",
    "    \"\"\"\n",
    "    Implements a two-layer neural network: LINEAR->RELU->LINEAR->SIGMOID.\n",
    "    \n",
    "    Arguments:\n",
    "    X -- input data, of shape (n_x, number of examples)\n",
    "    Y -- true \"label\" vector (containing 0 if cat, 1 if non-cat), of shape (1, number of examples)\n",
    "    layers_dims -- dimensions of the layers (n_x, n_h, n_y)\n",
    "    num_iterations -- number of iterations of the optimization loop\n",
    "    learning_rate -- learning rate of the gradient descent update rule\n",
    "    print_cost -- If set to True, this will print the cost every 100 iterations \n",
    "    \n",
    "    Returns:\n",
    "    parameters -- a dictionary containing W1, W2, b1, and b2\n",
    "    \"\"\"\n",
    "    \n",
    "    np.random.seed(1)\n",
    "    grads = {}\n",
    "    costs = []                              # to keep track of the cost\n",
    "    m = X.shape[1]                           # number of examples\n",
    "    (n_x, n_h, n_y) = layers_dims\n",
    "    \n",
    "    # Initialize parameters dictionary, by calling one of the functions you'd previously implemented\n",
    "    ### START CODE HERE ### (≈ 1 line of code)\n",
    "    parameters = initialize_parameters(n_x, n_h, n_y)\n",
    "    ### END CODE HERE ###\n",
    "    \n",
    "    # Get W1, b1, W2 and b2 from the dictionary parameters.\n",
    "    W1 = parameters[\"W1\"]\n",
    "    b1 = parameters[\"b1\"]\n",
    "    W2 = parameters[\"W2\"]\n",
    "    b2 = parameters[\"b2\"]\n",
    "    \n",
    "    # Loop (gradient descent)\n",
    "\n",
    "    for i in range(0, num_iterations):\n",
    "\n",
    "        # Forward propagation: LINEAR -> RELU -> LINEAR -> SIGMOID. Inputs: \"X, W1, b1\". Output: \"A1, cache1, A2, cache2\".\n",
    "        ### START CODE HERE ### (≈ 2 lines of code)\n",
    "        A1, cache1 = linear_activation_forward(X, W1, b1,\"relu\" )\n",
    "        A2, cache2 = linear_activation_forward(A1,W2, b2, \"sigmoid\")\n",
    "        ### END CODE HERE ###\n",
    "        \n",
    "        # Compute cost\n",
    "        ### START CODE HERE ### (≈ 1 line of code)\n",
    "        cost = compute_cost(A2, Y)\n",
    "        ### END CODE HERE ###\n",
    "        \n",
    "        # Initializing backward propagation\n",
    "        dA2 = - (np.divide(Y, A2) - np.divide(1 - Y, 1 - A2))\n",
    "        \n",
    "        # Backward propagation. Inputs: \"dA2, cache2, cache1\". Outputs: \"dA1, dW2, db2; also dA0 (not used), dW1, db1\".\n",
    "        ### START CODE HERE ### (≈ 2 lines of code)\n",
    "        dA1, dW2, db2 = linear_activation_backward(dA2, cache2, \"sigmoid\")\n",
    "        dA0, dW1, db1 = linear_activation_backward(dA1, cache1, \"relu\")\n",
    "        ### END CODE HERE ###\n",
    "        \n",
    "        # Set grads['dWl'] to dW1, grads['db1'] to db1, grads['dW2'] to dW2, grads['db2'] to db2\n",
    "        grads['dW1'] = dW1\n",
    "        grads['db1'] = db1\n",
    "        grads['dW2'] = dW2\n",
    "        grads['db2'] = db2\n",
    "        \n",
    "        # Update parameters.\n",
    "        ### START CODE HERE ### (approx. 1 line of code)\n",
    "        parameters = update_parameters(parameters, grads, learning_rate)\n",
    "        ### END CODE HERE ###\n",
    "\n",
    "        # Retrieve W1, b1, W2, b2 from parameters\n",
    "        W1 = parameters[\"W1\"]\n",
    "        b1 = parameters[\"b1\"]\n",
    "        W2 = parameters[\"W2\"]\n",
    "        b2 = parameters[\"b2\"]\n",
    "        \n",
    "        # Print the cost every 100 training example\n",
    "        if print_cost and i % 100 == 0:\n",
    "            print(\"Cost after iteration {}: {}\".format(i, np.squeeze(cost)))\n",
    "        if print_cost and i % 100 == 0:\n",
    "            costs.append(cost)\n",
    "       \n",
    "    # plot the cost\n",
    "\n",
    "    plt.plot(np.squeeze(costs))\n",
    "    plt.ylabel('cost')\n",
    "    plt.xlabel('iterations (per tens)')\n",
    "    plt.title(\"Learning rate =\" + str(learning_rate))\n",
    "    plt.show()\n",
    "    \n",
    "    return parameters"
   ]
  },
  {
   "cell_type": "code",
   "execution_count": null,
   "metadata": {
    "collapsed": true
   },
   "outputs": [],
   "source": [
    "### CONSTANTS DEFINING THE MODEL ####\n",
    "n_x = 12288     # num_px * num_px * 3\n",
    "n_h = 7\n",
    "n_y = 1\n",
    "layers_dims = (n_x, n_h, n_y)"
   ]
  },
  {
   "cell_type": "code",
   "execution_count": null,
   "metadata": {
    "collapsed": true
   },
   "outputs": [],
   "source": [
    "parameters = two_layer_model(train_set_x, train_set_y, layers_dims = (n_x, n_h, n_y), num_iterations = 1000, print_cost=True)"
   ]
  },
  {
   "cell_type": "code",
   "execution_count": null,
   "metadata": {
    "collapsed": true
   },
   "outputs": [],
   "source": [
    "print(train_set_x.shape)\n",
    "print(train_set_y.shape)\n",
    "print(test_set_x.shape)\n",
    "print(test_set_y.shape)\n"
   ]
  },
  {
   "cell_type": "markdown",
   "metadata": {},
   "source": [
    "## Now we will try on a L-Layer model "
   ]
  },
  {
   "cell_type": "code",
   "execution_count": null,
   "metadata": {
    "collapsed": true
   },
   "outputs": [],
   "source": [
    "# GRADED FUNCTION: initialize_parameters_deep\n",
    "\n",
    "def initialize_parameters_deep(layer_dims):\n",
    "    \"\"\"\n",
    "    Arguments:\n",
    "    layer_dims -- python array (list) containing the dimensions of each layer in our network\n",
    "    \n",
    "    Returns:\n",
    "    parameters -- python dictionary containing your parameters \"W1\", \"b1\", ..., \"WL\", \"bL\":\n",
    "                    Wl -- weight matrix of shape (layer_dims[l], layer_dims[l-1])\n",
    "                    bl -- bias vector of shape (layer_dims[l], 1)\n",
    "    \"\"\"\n",
    "    \n",
    "    np.random.seed(3)\n",
    "    parameters = {}\n",
    "    L = len(layer_dims)            # number of layers in the network\n",
    "\n",
    "    for l in range(1, L):\n",
    "        ### START CODE HERE ### (≈ 2 lines of code)\n",
    "        parameters['W' + str(l)] = np.random.randn(layer_dims[l],layer_dims[l-1])*0.01\n",
    "        parameters['b' + str(l)] = np.zeros((layer_dims[l],1))\n",
    "        ### END CODE HERE ###\n",
    "        \n",
    "        assert(parameters['W' + str(l)].shape == (layer_dims[l], layer_dims[l-1]))\n",
    "        assert(parameters['b' + str(l)].shape == (layer_dims[l], 1))\n",
    "\n",
    "        \n",
    "    return parameters"
   ]
  },
  {
   "cell_type": "code",
   "execution_count": null,
   "metadata": {
    "collapsed": true
   },
   "outputs": [],
   "source": [
    "# GRADED FUNCTION: L_model_forward\n",
    "\n",
    "def L_model_forward(X, parameters):\n",
    "    \"\"\"\n",
    "    Implement forward propagation for the [LINEAR->RELU]*(L-1)->LINEAR->SIGMOID computation\n",
    "    \n",
    "    Arguments:\n",
    "    X -- data, numpy array of shape (input size, number of examples)\n",
    "    parameters -- output of initialize_parameters_deep()\n",
    "    \n",
    "    Returns:\n",
    "    AL -- last post-activation value\n",
    "    caches -- list of caches containing:\n",
    "                every cache of linear_relu_forward() (there are L-1 of them, indexed from 0 to L-2)\n",
    "                the cache of linear_sigmoid_forward() (there is one, indexed L-1)\n",
    "    \"\"\"\n",
    "\n",
    "    caches = []\n",
    "    A = X\n",
    "    L = len(parameters) // 2                  # number of layers in the neural network\n",
    "    \n",
    "    # Implement [LINEAR -> RELU]*(L-1). Add \"cache\" to the \"caches\" list.\n",
    "    for l in range(1, L):\n",
    "        A_prev = A \n",
    "        ### START CODE HERE ### (≈ 2 lines of code)\n",
    "        A, cache = linear_activation_forward(A_prev,parameters['W' + str(l)], parameters['b' + str(l)], activation = \"relu\")\n",
    "        caches.append(cache)\n",
    "        ### END CODE HERE ###\n",
    "    \n",
    "    # Implement LINEAR -> SIGMOID. Add \"cache\" to the \"caches\" list.\n",
    "    ### START CODE HERE ### (≈ 2 lines of code)\n",
    "    AL, cache = linear_activation_forward(A, parameters['W' + str(L)], parameters['b' + str(L)], \"sigmoid\")\n",
    "    caches.append(cache)\n",
    "    ### END CODE HERE ###\n",
    "    \n",
    "    assert(AL.shape == (1,X.shape[1]))\n",
    "            \n",
    "    return AL, caches"
   ]
  },
  {
   "cell_type": "code",
   "execution_count": null,
   "metadata": {
    "collapsed": true
   },
   "outputs": [],
   "source": [
    "# GRADED FUNCTION: L_model_backward\n",
    "\n",
    "def L_model_backward(AL, Y, caches):\n",
    "    \"\"\"\n",
    "    Implement the backward propagation for the [LINEAR->RELU] * (L-1) -> LINEAR -> SIGMOID group\n",
    "    \n",
    "    Arguments:\n",
    "    AL -- probability vector, output of the forward propagation (L_model_forward())\n",
    "    Y -- true \"label\" vector (containing 0 if non-cat, 1 if cat)\n",
    "    caches -- list of caches containing:\n",
    "                every cache of linear_activation_forward() with \"relu\" (it's caches[l], for l in range(L-1) i.e l = 0...L-2)\n",
    "                the cache of linear_activation_forward() with \"sigmoid\" (it's caches[L-1])\n",
    "    \n",
    "    Returns:\n",
    "    grads -- A dictionary with the gradients\n",
    "             grads[\"dA\" + str(l)] = ... \n",
    "             grads[\"dW\" + str(l)] = ...\n",
    "             grads[\"db\" + str(l)] = ... \n",
    "    \"\"\"\n",
    "    grads = {}\n",
    "    L = len(caches) # the number of layers\n",
    "    m = AL.shape[1]\n",
    "    Y = Y.reshape(AL.shape) # after this line, Y is the same shape as AL\n",
    "    \n",
    "    # Initializing the backpropagation\n",
    "    ### START CODE HERE ### (1 line of code)\n",
    "    dAL = - (np.divide(Y, AL) - np.divide(1 - Y, 1 - AL)) # derivative of cost with respect to AL\n",
    "    ### END CODE HERE ###\n",
    "    \n",
    "    # Lth layer (SIGMOID -> LINEAR) gradients. Inputs: \"AL, Y, caches\". Outputs: \"grads[\"dAL\"], grads[\"dWL\"], grads[\"dbL\"]\n",
    "    ### START CODE HERE ### (approx. 2 lines)\n",
    "    current_cache = caches[L-1]\n",
    "    grads[\"dA\" + str(L)], grads[\"dW\" + str(L)], grads[\"db\" + str(L)] = linear_activation_backward(dAL, current_cache, activation = \"sigmoid\")\n",
    "    \n",
    "    ### END CODE HERE ###\n",
    "    \n",
    "    for l in reversed(range(L-1)):\n",
    "        # lth layer: (RELU -> LINEAR) gradients.\n",
    "        # Inputs: \"grads[\"dA\" + str(l + 2)], caches\". Outputs: \"grads[\"dA\" + str(l + 1)] , grads[\"dW\" + str(l + 1)] , grads[\"db\" + str(l + 1)] \n",
    "        ### START CODE HERE ### (approx. 5 lines)\n",
    "        current_cache = caches[l]\n",
    "        dA_prev_temp, dW_temp, db_temp = linear_activation_backward(grads[\"dA\" + str(l + 2)], current_cache, activation = \"relu\")\n",
    "        grads[\"dA\" + str(l + 1)] = dA_prev_temp\n",
    "        grads[\"dW\" + str(l + 1)] = dW_temp\n",
    "        grads[\"db\" + str(l + 1)] = db_temp\n",
    "        ### END CODE HERE ###\n",
    "\n",
    "    return grads"
   ]
  },
  {
   "cell_type": "code",
   "execution_count": null,
   "metadata": {
    "collapsed": true
   },
   "outputs": [],
   "source": [
    "layers_dims = [12288, 20, 7, 5, 1] #  5-layer model"
   ]
  },
  {
   "cell_type": "code",
   "execution_count": null,
   "metadata": {
    "collapsed": true
   },
   "outputs": [],
   "source": [
    "# GRADED FUNCTION: L_layer_model\n",
    "\n",
    "def L_layer_model(X, Y, layers_dims, learning_rate = 0.0075, num_iterations = 3000, print_cost=False):#lr was 0.009\n",
    "    \"\"\"\n",
    "    Implements a L-layer neural network: [LINEAR->RELU]*(L-1)->LINEAR->SIGMOID.\n",
    "    \n",
    "    Arguments:\n",
    "    X -- data, numpy array of shape (number of examples, num_px * num_px * 3)\n",
    "    Y -- true \"label\" vector (containing 0 if cat, 1 if non-cat), of shape (1, number of examples)\n",
    "    layers_dims -- list containing the input size and each layer size, of length (number of layers + 1).\n",
    "    learning_rate -- learning rate of the gradient descent update rule\n",
    "    num_iterations -- number of iterations of the optimization loop\n",
    "    print_cost -- if True, it prints the cost every 100 steps\n",
    "    \n",
    "    Returns:\n",
    "    parameters -- parameters learnt by the model. They can then be used to predict.\n",
    "    \"\"\"\n",
    "\n",
    "    np.random.seed(1)\n",
    "    costs = []                         # keep track of cost\n",
    "    \n",
    "    # Parameters initialization.\n",
    "    ### START CODE HERE ###\n",
    "    parameters = initialize_parameters_deep(layers_dims)\n",
    "    ### END CODE HERE ###\n",
    "    \n",
    "    # Loop (gradient descent)\n",
    "    for i in range(0, num_iterations):\n",
    "\n",
    "        # Forward propagation: [LINEAR -> RELU]*(L-1) -> LINEAR -> SIGMOID.\n",
    "        ### START CODE HERE ### (≈ 1 line of code)\n",
    "        AL, caches = L_model_forward(X, parameters)\n",
    "        ### END CODE HERE ###\n",
    "        \n",
    "        # Compute cost.\n",
    "        ### START CODE HERE ### (≈ 1 line of code)\n",
    "        cost = compute_cost(AL, Y)\n",
    "        ### END CODE HERE ###\n",
    "    \n",
    "        # Backward propagation.\n",
    "        ### START CODE HERE ### (≈ 1 line of code)\n",
    "        grads = L_model_backward(AL, Y, caches)\n",
    "        ### END CODE HERE ###\n",
    " \n",
    "        # Update parameters.\n",
    "        ### START CODE HERE ### (≈ 1 line of code)\n",
    "        parameters = update_parameters(parameters, grads, learning_rate)\n",
    "        ### END CODE HERE ###\n",
    "                \n",
    "        # Print the cost every 100 training example\n",
    "        if print_cost and i % 100 == 0:\n",
    "            print (\"Cost after iteration %i: %f\" %(i, cost))\n",
    "        if print_cost and i % 100 == 0:\n",
    "            costs.append(cost)\n",
    "            \n",
    "    # plot the cost\n",
    "    plt.plot(np.squeeze(costs))\n",
    "    plt.ylabel('cost')\n",
    "    plt.xlabel('iterations (per tens)')\n",
    "    plt.title(\"Learning rate =\" + str(learning_rate))\n",
    "    plt.show()\n",
    "    \n",
    "    return parameters"
   ]
  },
  {
   "cell_type": "code",
   "execution_count": null,
   "metadata": {
    "collapsed": true
   },
   "outputs": [],
   "source": [
    "parameters = L_layer_model(train_set_x, train_set_y, layers_dims, num_iterations = 500, print_cost = True)"
   ]
  },
  {
   "cell_type": "markdown",
   "metadata": {},
   "source": [
    "Since Cost is not changing\n",
    "## I am using random initialisation\n",
    "\n",
    "\n",
    "## (Please use data from starting of code , don't train other models from above)"
   ]
  },
  {
   "cell_type": "code",
   "execution_count": 40,
   "metadata": {
    "collapsed": true
   },
   "outputs": [],
   "source": [
    "def initialize_parameters_random(layers_dims):\n",
    "    \"\"\"\n",
    "    Arguments:\n",
    "    layer_dims -- python array (list) containing the size of each layer.\n",
    "    \n",
    "    Returns:\n",
    "    parameters -- python dictionary containing your parameters \"W1\", \"b1\", ..., \"WL\", \"bL\":\n",
    "                    W1 -- weight matrix of shape (layers_dims[1], layers_dims[0])\n",
    "                    b1 -- bias vector of shape (layers_dims[1], 1)\n",
    "                    ...\n",
    "                    WL -- weight matrix of shape (layers_dims[L], layers_dims[L-1])\n",
    "                    bL -- bias vector of shape (layers_dims[L], 1)\n",
    "    \"\"\"\n",
    "    \n",
    "    np.random.seed(3)               # This seed makes sure your \"random\" numbers will be the as ours\n",
    "    parameters = {}\n",
    "    L = len(layers_dims)            # integer representing the number of layers\n",
    "    \n",
    "    for l in range(1, L):\n",
    "        ### START CODE HERE ### (≈ 2 lines of code)\n",
    "        parameters['W' + str(l)] = (np.random.randn(layers_dims[l],layers_dims[l-1])*10)\n",
    "        parameters['b' + str(l)] = np.zeros((layers_dims[l],1))\n",
    "        ### END CODE HERE ###\n",
    "\n",
    "    return parameters"
   ]
  },
  {
   "cell_type": "code",
   "execution_count": 47,
   "metadata": {
    "collapsed": true
   },
   "outputs": [],
   "source": [
    "def relu(x):\n",
    "    \"\"\"\n",
    "    Compute the relu of x\n",
    "\n",
    "    Arguments:\n",
    "    x -- A scalar or numpy array of any size.\n",
    "\n",
    "    Return:\n",
    "    s -- relu(x)\n",
    "    \"\"\"\n",
    "    s = np.maximum(0,x)\n",
    "    \n",
    "    return s"
   ]
  },
  {
   "cell_type": "code",
   "execution_count": 48,
   "metadata": {
    "collapsed": true
   },
   "outputs": [],
   "source": [
    "def sigmoid(x):\n",
    "    \"\"\"\n",
    "    Compute the sigmoid of x\n",
    "\n",
    "    Arguments:\n",
    "    x -- A scalar or numpy array of any size.\n",
    "\n",
    "    Return:\n",
    "    s -- sigmoid(x)\n",
    "    \"\"\"\n",
    "    s = 1/(1+np.exp(-x))\n",
    "    return s"
   ]
  },
  {
   "cell_type": "code",
   "execution_count": 49,
   "metadata": {
    "collapsed": true
   },
   "outputs": [],
   "source": [
    "def forward_propagation(X, parameters):\n",
    "    \"\"\"\n",
    "    Implements the forward propagation (and computes the loss) presented in Figure 2.\n",
    "    \n",
    "    Arguments:\n",
    "    X -- input dataset, of shape (input size, number of examples)\n",
    "    Y -- true \"label\" vector (containing 0 if cat, 1 if non-cat)\n",
    "    parameters -- python dictionary containing your parameters \"W1\", \"b1\", \"W2\", \"b2\", \"W3\", \"b3\":\n",
    "                    W1 -- weight matrix of shape ()\n",
    "                    b1 -- bias vector of shape ()\n",
    "                    W2 -- weight matrix of shape ()\n",
    "                    b2 -- bias vector of shape ()\n",
    "                    W3 -- weight matrix of shape ()\n",
    "                    b3 -- bias vector of shape ()\n",
    "    \n",
    "    Returns:\n",
    "    loss -- the loss function (vanilla logistic loss)\n",
    "    \"\"\"\n",
    "        \n",
    "    # retrieve parameters\n",
    "    W1 = parameters[\"W1\"]\n",
    "    b1 = parameters[\"b1\"]\n",
    "    W2 = parameters[\"W2\"]\n",
    "    b2 = parameters[\"b2\"]\n",
    "    W3 = parameters[\"W3\"]\n",
    "    b3 = parameters[\"b3\"]\n",
    "    \n",
    "    # LINEAR -> RELU -> LINEAR -> RELU -> LINEAR -> SIGMOID\n",
    "    z1 = np.dot(W1, X) + b1\n",
    "    a1 = relu(z1)\n",
    "    z2 = np.dot(W2, a1) + b2\n",
    "    a2 = relu(z2)\n",
    "    z3 = np.dot(W3, a2) + b3\n",
    "    a3 = sigmoid(z3)\n",
    "    \n",
    "    cache = (z1, a1, W1, b1, z2, a2, W2, b2, z3, a3, W3, b3)\n",
    "    \n",
    "    return a3, cache"
   ]
  },
  {
   "cell_type": "code",
   "execution_count": 50,
   "metadata": {
    "collapsed": true
   },
   "outputs": [],
   "source": [
    "def compute_loss(a3, Y):\n",
    "    \n",
    "    \"\"\"\n",
    "    Implement the loss function\n",
    "    \n",
    "    Arguments:\n",
    "    a3 -- post-activation, output of forward propagation\n",
    "    Y -- \"true\" labels vector, same shape as a3\n",
    "    \n",
    "    Returns:\n",
    "    loss - value of the loss function\n",
    "    \"\"\"\n",
    "    \n",
    "    m = Y.shape[1]\n",
    "    logprobs = np.multiply(-np.log(a3),Y) + np.multiply(-np.log(1 - a3), 1 - Y)\n",
    "    loss = 1./m * np.nansum(logprobs)\n",
    "    \n",
    "    return loss"
   ]
  },
  {
   "cell_type": "code",
   "execution_count": 51,
   "metadata": {
    "collapsed": true
   },
   "outputs": [],
   "source": [
    "def backward_propagation(X, Y, cache):\n",
    "    \"\"\"\n",
    "    Implement the backward propagation presented in figure 2.\n",
    "    \n",
    "    Arguments:\n",
    "    X -- input dataset, of shape (input size, number of examples)\n",
    "    Y -- true \"label\" vector (containing 0 if cat, 1 if non-cat)\n",
    "    cache -- cache output from forward_propagation()\n",
    "    \n",
    "    Returns:\n",
    "    gradients -- A dictionary with the gradients with respect to each parameter, activation and pre-activation variables\n",
    "    \"\"\"\n",
    "    m = X.shape[1]\n",
    "    (z1, a1, W1, b1, z2, a2, W2, b2, z3, a3, W3, b3) = cache\n",
    "    \n",
    "    dz3 = 1./m * (a3 - Y)\n",
    "    dW3 = np.dot(dz3, a2.T)\n",
    "    db3 = np.sum(dz3, axis=1, keepdims = True)\n",
    "    \n",
    "    da2 = np.dot(W3.T, dz3)\n",
    "    dz2 = np.multiply(da2, np.int64(a2 > 0))\n",
    "    dW2 = np.dot(dz2, a1.T)\n",
    "    db2 = np.sum(dz2, axis=1, keepdims = True)\n",
    "    \n",
    "    da1 = np.dot(W2.T, dz2)\n",
    "    dz1 = np.multiply(da1, np.int64(a1 > 0))\n",
    "    dW1 = np.dot(dz1, X.T)\n",
    "    db1 = np.sum(dz1, axis=1, keepdims = True)\n",
    "    \n",
    "    gradients = {\"dz3\": dz3, \"dW3\": dW3, \"db3\": db3,\n",
    "                 \"da2\": da2, \"dz2\": dz2, \"dW2\": dW2, \"db2\": db2,\n",
    "                 \"da1\": da1, \"dz1\": dz1, \"dW1\": dW1, \"db1\": db1}\n",
    "    \n",
    "    return gradients"
   ]
  },
  {
   "cell_type": "code",
   "execution_count": 52,
   "metadata": {
    "collapsed": true
   },
   "outputs": [],
   "source": [
    "def update_parameters(parameters, grads, learning_rate):\n",
    "    \"\"\"\n",
    "    Update parameters using gradient descent\n",
    "    \n",
    "    Arguments:\n",
    "    parameters -- python dictionary containing your parameters \n",
    "    grads -- python dictionary containing your gradients, output of n_model_backward\n",
    "    \n",
    "    Returns:\n",
    "    parameters -- python dictionary containing your updated parameters \n",
    "                  parameters['W' + str(i)] = ... \n",
    "                  parameters['b' + str(i)] = ...\n",
    "    \"\"\"\n",
    "    \n",
    "    L = len(parameters) // 2 # number of layers in the neural networks\n",
    "\n",
    "    # Update rule for each parameter\n",
    "    for k in range(L):\n",
    "        parameters[\"W\" + str(k+1)] = parameters[\"W\" + str(k+1)] - learning_rate * grads[\"dW\" + str(k+1)]\n",
    "        parameters[\"b\" + str(k+1)] = parameters[\"b\" + str(k+1)] - learning_rate * grads[\"db\" + str(k+1)]\n",
    "        \n",
    "    return parameters"
   ]
  },
  {
   "cell_type": "code",
   "execution_count": 55,
   "metadata": {
    "collapsed": true
   },
   "outputs": [],
   "source": [
    "def model(X, Y, learning_rate = 0.005, num_iterations = 15000, print_cost = True, initialization = \"he\"):\n",
    "    \"\"\"\n",
    "    Implements a three-layer neural network: LINEAR->RELU->LINEAR->RELU->LINEAR->SIGMOID.\n",
    "    \n",
    "    Arguments:\n",
    "    X -- input data, of shape (2, number of examples)\n",
    "    Y -- true \"label\" vector (containing 0 for red dots; 1 for blue dots), of shape (1, number of examples)\n",
    "    learning_rate -- learning rate for gradient descent \n",
    "    num_iterations -- number of iterations to run gradient descent\n",
    "    print_cost -- if True, print the cost every 1000 iterations\n",
    "    initialization -- flag to choose which initialization to use (\"zeros\",\"random\" or \"he\")\n",
    "    \n",
    "    Returns:\n",
    "    parameters -- parameters learnt by the model\n",
    "    \"\"\"\n",
    "        \n",
    "    grads = {}\n",
    "    costs = [] # to keep track of the loss\n",
    "    m = X.shape[1] # number of examples\n",
    "    layers_dims = [X.shape[0], 10, 5, 1]\n",
    "    \n",
    "    # Initialize parameters dictionary.\n",
    "    if initialization == \"zeros\":\n",
    "        parameters = initialize_parameters_zeros(layers_dims)\n",
    "    elif initialization == \"random\":\n",
    "        parameters = initialize_parameters_random(layers_dims)\n",
    "    elif initialization == \"he\":\n",
    "        parameters = initialize_parameters_he(layers_dims)\n",
    "\n",
    "    # Loop (gradient descent)\n",
    "\n",
    "    for i in range(0, num_iterations):\n",
    "\n",
    "        # Forward propagation: LINEAR -> RELU -> LINEAR -> RELU -> LINEAR -> SIGMOID.\n",
    "        a3, cache = forward_propagation(X, parameters)\n",
    "        \n",
    "        # Loss\n",
    "        cost = compute_loss(a3, Y)\n",
    "\n",
    "        # Backward propagation.\n",
    "        grads = backward_propagation(X, Y, cache)\n",
    "        \n",
    "        # Update parameters.\n",
    "        parameters = update_parameters(parameters, grads, learning_rate)\n",
    "        \n",
    "        # Print the loss every 1000 iterations\n",
    "        if print_cost and i % 1000 == 0:\n",
    "            print(\"Cost after iteration {}: {}\".format(i, cost))\n",
    "            costs.append(cost)\n",
    "            \n",
    "    # plot the loss\n",
    "    plt.plot(costs)\n",
    "    plt.ylabel('cost')\n",
    "    plt.xlabel('iterations (per hundreds)')\n",
    "    plt.title(\"Learning rate =\" + str(learning_rate))\n",
    "    plt.show()\n",
    "    \n",
    "    return parameters"
   ]
  },
  {
   "cell_type": "code",
   "execution_count": 56,
   "metadata": {},
   "outputs": [
    {
     "name": "stderr",
     "output_type": "stream",
     "text": [
      "/anaconda3/lib/python3.6/site-packages/ipykernel_launcher.py:15: RuntimeWarning: divide by zero encountered in log\n",
      "  from ipykernel import kernelapp as app\n",
      "/anaconda3/lib/python3.6/site-packages/ipykernel_launcher.py:15: RuntimeWarning: invalid value encountered in multiply\n",
      "  from ipykernel import kernelapp as app\n",
      "/anaconda3/lib/python3.6/site-packages/ipykernel_launcher.py:11: RuntimeWarning: overflow encountered in exp\n",
      "  # This is added back by InteractiveShellApp.init_path()\n"
     ]
    },
    {
     "name": "stdout",
     "output_type": "stream",
     "text": [
      "Cost after iteration 0: inf\n",
      "Cost after iteration 1000: 0.6559867942287445\n",
      "Cost after iteration 2000: 0.6552437212284056\n",
      "Cost after iteration 3000: 0.6547234108854556\n",
      "Cost after iteration 4000: 0.6542435003881968\n",
      "Cost after iteration 5000: 0.654230049301111\n",
      "Cost after iteration 6000: 0.6542264477173336\n",
      "Cost after iteration 7000: 0.654224846642341\n",
      "Cost after iteration 8000: 0.6542238440527658\n",
      "Cost after iteration 9000: 0.6542232408653217\n",
      "Cost after iteration 10000: 0.654222780740128\n",
      "Cost after iteration 11000: 0.6542224764334814\n",
      "Cost after iteration 12000: 0.6542222110629298\n",
      "Cost after iteration 13000: 0.6542220326480365\n",
      "Cost after iteration 14000: 0.6542218586140665\n"
     ]
    },
    {
     "data": {
      "image/png": "[encoded data removed]",
      "text/plain": [
       "<matplotlib.figure.Figure at 0x11575d978>"
      ]
     },
     "metadata": {},
     "output_type": "display_data"
    }
   ],
   "source": [
    "parameters = model(train_set_x, train_set_y, initialization = \"random\")"
   ]
  },
  {
   "cell_type": "markdown",
   "metadata": {},
   "source": [
    "## Now i gonna use HE initialization"
   ]
  },
  {
   "cell_type": "code",
   "execution_count": 57,
   "metadata": {
    "collapsed": true
   },
   "outputs": [],
   "source": [
    "# GRADED FUNCTION: initialize_parameters_he\n",
    "\n",
    "def initialize_parameters_he(layers_dims):\n",
    "    \"\"\"\n",
    "    Arguments:\n",
    "    layer_dims -- python array (list) containing the size of each layer.\n",
    "    \n",
    "    Returns:\n",
    "    parameters -- python dictionary containing your parameters \"W1\", \"b1\", ..., \"WL\", \"bL\":\n",
    "                    W1 -- weight matrix of shape (layers_dims[1], layers_dims[0])\n",
    "                    b1 -- bias vector of shape (layers_dims[1], 1)\n",
    "                    ...\n",
    "                    WL -- weight matrix of shape (layers_dims[L], layers_dims[L-1])\n",
    "                    bL -- bias vector of shape (layers_dims[L], 1)\n",
    "    \"\"\"\n",
    "    \n",
    "    np.random.seed(3)\n",
    "    parameters = {}\n",
    "    L = len(layers_dims) - 1 # integer representing the number of layers\n",
    "     \n",
    "    for l in range(1, L + 1):\n",
    "        ### START CODE HERE ### (≈ 2 lines of code)\n",
    "        parameters['W' + str(l)] = (np.random.randn(layers_dims[l],layers_dims[l-1]) * np.sqrt(2./layers_dims[l-1]))\n",
    "        parameters['b' + str(l)] = np.zeros((layers_dims[l],1))\n",
    "        ### END CODE HERE ###\n",
    "        \n",
    "    return parameters"
   ]
  },
  {
   "cell_type": "code",
   "execution_count": 59,
   "metadata": {},
   "outputs": [
    {
     "name": "stdout",
     "output_type": "stream",
     "text": [
      "Cost after iteration 0: 0.9097925559701854\n",
      "Cost after iteration 1000: 0.04616030641263418\n",
      "Cost after iteration 2000: 0.010289666698998737\n",
      "Cost after iteration 3000: 0.004983332467616768\n",
      "Cost after iteration 4000: 0.0031087702824747973\n",
      "Cost after iteration 5000: 0.002205840327557251\n",
      "Cost after iteration 6000: 0.0016863532243226583\n",
      "Cost after iteration 7000: 0.0013541053701386055\n",
      "Cost after iteration 8000: 0.001124489599993336\n",
      "Cost after iteration 9000: 0.0009571011029239207\n",
      "Cost after iteration 10000: 0.000830366700123637\n",
      "Cost after iteration 11000: 0.0007311681503550264\n",
      "Cost after iteration 12000: 0.0006516611956896309\n",
      "Cost after iteration 13000: 0.000586637992846164\n",
      "Cost after iteration 14000: 0.0005326173377988157\n"
     ]
    },
    {
     "data": {
      "image/png": "[encoded data removed]",
      "text/plain": [
       "<matplotlib.figure.Figure at 0x115f95048>"
      ]
     },
     "metadata": {},
     "output_type": "display_data"
    }
   ],
   "source": [
    "parameters = model(train_set_x, train_set_y, initialization = \"he\")"
   ]
  },
  {
   "cell_type": "code",
   "execution_count": 60,
   "metadata": {
    "collapsed": true
   },
   "outputs": [],
   "source": [
    "def predict(X, y, parameters):\n",
    "    \"\"\"\n",
    "    This function is used to predict the results of a  n-layer neural network.\n",
    "    \n",
    "    Arguments:\n",
    "    X -- data set of examples you would like to label\n",
    "    parameters -- parameters of the trained model\n",
    "    \n",
    "    Returns:\n",
    "    p -- predictions for the given dataset X\n",
    "    \"\"\"\n",
    "    \n",
    "    m = X.shape[1]\n",
    "    p = np.zeros((1,m), dtype = np.int)\n",
    "    \n",
    "    # Forward propagation\n",
    "    a3, caches = forward_propagation(X, parameters)\n",
    "    \n",
    "    # convert probas to 0/1 predictions\n",
    "    for i in range(0, a3.shape[1]):\n",
    "        if a3[0,i] > 0.5:\n",
    "            p[0,i] = 1\n",
    "        else:\n",
    "            p[0,i] = 0\n",
    "\n",
    "    # print results\n",
    "    print(\"Accuracy: \"  + str(np.mean((p[0,:] == y[0,:]))))\n",
    "    \n",
    "    return p"
   ]
  },
  {
   "cell_type": "code",
   "execution_count": 62,
   "metadata": {},
   "outputs": [
    {
     "name": "stdout",
     "output_type": "stream",
     "text": [
      "On the train set:\n",
      "Accuracy: 1.0\n",
      "On the test set:\n",
      "Accuracy: 0.01\n"
     ]
    }
   ],
   "source": [
    "print (\"On the train set:\")\n",
    "predictions_train = predict(train_set_x, train_set_y, parameters)\n",
    "print (\"On the test set:\")\n",
    "predictions_test = predict(train_set_x, train_set_x, parameters)"
   ]
  },
  {
   "cell_type": "code",
   "execution_count": null,
   "metadata": {
    "collapsed": true
   },
   "outputs": [],
   "source": []
  }
 ],
 "metadata": {
  "kernelspec": {
   "display_name": "Python 3",
   "language": "python",
   "name": "python3"
  },
  "language_info": {
   "codemirror_mode": {
    "name": "ipython",
    "version": 3
   },
   "file_extension": ".py",
   "mimetype": "text/x-python",
   "name": "python",
   "nbconvert_exporter": "python",
   "pygments_lexer": "ipython3",
   "version": "3.6.2"
  }
 },
 "nbformat": 4,
 "nbformat_minor": 2
}
